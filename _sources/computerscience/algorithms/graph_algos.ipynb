{
 "cells": [
  {
   "cell_type": "markdown",
   "metadata": {},
   "source": [
    "# Graph algorithms"
   ]
  },
  {
   "cell_type": "markdown",
   "metadata": {},
   "source": [
    "Graphs are incredibly versatile data structures and due to this versatility they are ubiquitous in computing."
   ]
  },
  {
   "cell_type": "markdown",
   "metadata": {},
   "source": [
    "## Adjacency list"
   ]
  },
  {
   "cell_type": "markdown",
   "metadata": {},
   "source": [
    "Besides the adjacency matrix representation of a graph which we cover [here](../../mathematics/discrete-math/graph_theory.ipynb) the other common way of representing a graph is using an adjacency list which {cite:p}`cormen2022introduction` say is what most of the graph algorithms they present use to represent graphs. For example for the graph $G$ shown below:"
   ]
  },
  {
   "cell_type": "code",
   "execution_count": 48,
   "metadata": {
    "tags": [
     "hide-input"
    ]
   },
   "outputs": [
    {
     "data": {
      "image/png": "[encoded data removed]",
      "text/plain": [
       "<Figure size 640x480 with 1 Axes>"
      ]
     },
     "metadata": {},
     "output_type": "display_data"
    }
   ],
   "source": [
    "import networkx as nx\n",
    "import matplotlib.pyplot as plt\n",
    "from tabulate import tabulate\n",
    "\n",
    "def get_full_adjlist(G, delimiter=\" \"):\n",
    "     for s, nbrs in G.adjacency():\n",
    "        line = str(s) + delimiter\n",
    "        for t, data in nbrs.items():\n",
    "                line += str(t) + delimiter\n",
    "        yield line[: -len(delimiter)]\n",
    "\n",
    "\n",
    "def adjlist_as_dict(G):\n",
    "    adj_lst = {}\n",
    "    for line in get_full_adjlist(G):\n",
    "        nodes = line.split(\" \")\n",
    "        s = nodes[0]\n",
    "        neighbors = nodes[1:]\n",
    "        adj_lst[f\"Node {s}\"] = neighbors\n",
    "    return adj_lst\n",
    "\n",
    "\n",
    "options = {\n",
    "    \"font_size\": 36,\n",
    "    \"node_size\": 2500,\n",
    "    \"node_color\": \"lightblue\",\n",
    "    \"edgecolors\": \"black\",\n",
    "    \"linewidths\": 3,\n",
    "    \"width\": 3,\n",
    "    \"font_family\": \"sans\"\n",
    "}\n",
    "\n",
    "G = nx.Graph()\n",
    "V = [1,2,3,4]\n",
    "E = [(1,2), (2,3), (1,3), (2,4)]\n",
    "G.add_nodes_from(V)\n",
    "G.add_edges_from(E)\n",
    "\n",
    "# explicitly set node positions\n",
    "pos = {1: (0, 0), 2: (0, -1), 3: (1, 0), 4: (1, -1) }\n",
    "nx.draw_networkx(G, pos, **options)\n",
    "ax = plt.gca()\n",
    "ax.margins(0.20)\n",
    "plt.axis(\"off\")\n",
    "plt.show()"
   ]
  },
  {
   "cell_type": "markdown",
   "metadata": {},
   "source": [
    "The adjacency list is given by"
   ]
  },
  {
   "cell_type": "code",
   "execution_count": 50,
   "metadata": {
    "tags": [
     "hide-input"
    ]
   },
   "outputs": [
    {
     "name": "stdout",
     "output_type": "stream",
     "text": [
      "╒══════════╤══════════╤══════════╤══════════╕\n",
      "│   Node 1 │   Node 2 │   Node 3 │   Node 4 │\n",
      "╞══════════╪══════════╪══════════╪══════════╡\n",
      "│        2 │        1 │        2 │        2 │\n",
      "├──────────┼──────────┼──────────┼──────────┤\n",
      "│        3 │        3 │        1 │          │\n",
      "├──────────┼──────────┼──────────┼──────────┤\n",
      "│          │        4 │          │          │\n",
      "╘══════════╧══════════╧══════════╧══════════╛\n"
     ]
    }
   ],
   "source": [
    "adj_lst = adjlist_as_dict(G)\n",
    "\n",
    "print(tabulate(adj_lst, headers=\"keys\", tablefmt='fancy_grid'))"
   ]
  },
  {
   "cell_type": "markdown",
   "metadata": {},
   "source": [
    "## Graph traversal"
   ]
  },
  {
   "cell_type": "markdown",
   "metadata": {},
   "source": [
    "### Depth first search (DFS)"
   ]
  },
  {
   "cell_type": "markdown",
   "metadata": {},
   "source": [
    "DFS explores the graph in a depth first manner meaning it explores all edges to unexplored edges from a given node before backtracking to the node it started on once it reaches a node that has no edges that lead to unexplored edges. Uses a stack.\n",
    "\n",
    "Runtime is $O(|V|+|E|)$\n",
    "\n",
    "CAn be used to find connected components. Will label each node with it's connected component number. When used on a DAG it returns a topological ordering of the nodes so can be used to topologically sort a graph."
   ]
  },
  {
   "cell_type": "markdown",
   "metadata": {},
   "source": [
    "```{prf:algorithm} Explore\n",
    ":class: dropdown\n",
    ":label: explore\n",
    "**procedure** $\\text{Explore}(G, v,$ visited$)$:\n",
    "\n",
    "**Inputs** Given a graph $G=(V,E)$, a node $v$ and a list of booleans, visited, which indicate which nodes have been visited \n",
    "\n",
    "**Output** Nothing but visited($w$) is set to $\\text{True}$ for all nodes, $w$, which are reachable from $v$\n",
    "\n",
    "1. visited($w$) = $\\text{True}$\n",
    "2. $\\text{previsit}(v)$\n",
    "3. for each edge $(u,v) \\in E$:\n",
    "   1. if visited($u$) == $\\text{False}$:\n",
    "      1. $\\text{Explore}$($G$, $u$)\n",
    "4. $\\text{postvisit}(v)$\n",
    "```"
   ]
  },
  {
   "cell_type": "markdown",
   "metadata": {},
   "source": [
    "```{prf:algorithm} Depth First Search\n",
    ":class: dropdown\n",
    ":label: dfs\n",
    "**procedure** $\\text{DFS}(G)$:\n",
    "\n",
    "**Inputs** Given a graph $G=(V,E)$\n",
    "\n",
    "**Output** A list called visited which contains the pre-order and post-order number of each node computed during the depth first search.\n",
    "\n",
    "1. for each $v\\in V$:\n",
    "   1. visited($v$) = $\\text{False}$\n",
    "2. for each $v \\in V$:\n",
    "   1. if visited($v$) == $\\text{False}$\n",
    "      1. $\\text{Explore}(G,v,$ visited$)$\n",
    "\n",
    "3. return visited\n",
    "\n",
    "```"
   ]
  },
  {
   "cell_type": "markdown",
   "metadata": {},
   "source": [
    "### Breadth first search (BFS)"
   ]
  },
  {
   "cell_type": "markdown",
   "metadata": {},
   "source": [
    "BFS explores the graph in layers. \n",
    "Returns the minimum number of edges one must traverse to get from a starting node $s$ to all other nodes. If there is no path from $s$ to a node $t$ then the minimum number of edges one must traverse is set to $\\infty$. BFS utilizes a min heap (also called a priority queue).\n",
    "\n",
    "Runtime is $O(|V|+|E|)$"
   ]
  },
  {
   "cell_type": "markdown",
   "metadata": {},
   "source": [
    "## Shortest paths"
   ]
  },
  {
   "cell_type": "markdown",
   "metadata": {},
   "source": [
    "### Dijkstra's algorithm"
   ]
  },
  {
   "cell_type": "markdown",
   "metadata": {},
   "source": [
    "Sort of a generalization of BFS but works on weighted graphs where the edge weights are positive. \n",
    "\n",
    "Runtime is $O(|V|\\log{(|V|)}+|E|\\log{(|V|)})$"
   ]
  },
  {
   "cell_type": "markdown",
   "metadata": {},
   "source": [
    "### Bellman-Ford algorithm"
   ]
  },
  {
   "cell_type": "markdown",
   "metadata": {},
   "source": [
    "Runtime is $O(|V||E|)$"
   ]
  },
  {
   "cell_type": "markdown",
   "metadata": {},
   "source": [
    "### Floyd–Warshall algorithm"
   ]
  },
  {
   "cell_type": "markdown",
   "metadata": {},
   "source": [
    "Runtime is $O(|V|^3)$"
   ]
  },
  {
   "cell_type": "markdown",
   "metadata": {},
   "source": [
    "## Strongly connected components "
   ]
  },
  {
   "cell_type": "markdown",
   "metadata": {},
   "source": [
    "### Kosaraju's algorithm "
   ]
  },
  {
   "cell_type": "markdown",
   "metadata": {},
   "source": [
    "This algorithm outputs a meta-graph where the nodes correspond to strongly connected components (SCCs) of the graph $G$ and the edges $(u,v)$ denote that there is a path from all nodes in SCC $u$ to all nodes in SCC $v$. \n",
    "\n",
    "Runtime is $O(|V|+|E|)$ which is the same as DFS/BFS since we simply run DFS on $G^R$ and DFS on $G$."
   ]
  },
  {
   "cell_type": "markdown",
   "metadata": {},
   "source": [
    "## Minimum spanning trees"
   ]
  },
  {
   "cell_type": "markdown",
   "metadata": {},
   "source": [
    "The definition of a minimum spanning tree is covered [here](../../mathematics/discrete-math/graph_theory.ipynb) but how can we find the MST of an arbitrary weighted undirected graph?"
   ]
  },
  {
   "cell_type": "markdown",
   "metadata": {},
   "source": [
    "### Kruskal's algorithm"
   ]
  },
  {
   "cell_type": "markdown",
   "metadata": {},
   "source": [
    "Runtime is $O(|E|\\log{(|V|)})$"
   ]
  },
  {
   "cell_type": "markdown",
   "metadata": {},
   "source": [
    "### Prim's algorithm"
   ]
  },
  {
   "cell_type": "markdown",
   "metadata": {},
   "source": [
    "Runtime is $O(|V|\\log{(|V|)}+|E|\\log{(|V|)})$"
   ]
  },
  {
   "cell_type": "markdown",
   "metadata": {},
   "source": [
    "## Max flow"
   ]
  },
  {
   "cell_type": "markdown",
   "metadata": {},
   "source": [
    "### Ford-Fulkerson algorithm "
   ]
  },
  {
   "cell_type": "markdown",
   "metadata": {},
   "source": [
    "### Edmonds-Karp algorithm"
   ]
  },
  {
   "cell_type": "markdown",
   "metadata": {},
   "source": [
    "## Practice problems"
   ]
  },
  {
   "cell_type": "markdown",
   "metadata": {},
   "source": [
    "### 3.5 Reverse a graph"
   ]
  },
  {
   "cell_type": "markdown",
   "metadata": {},
   "source": [
    "Given a graph $G=(V,E)$\n",
    "\n",
    "1) Create a new empty adjacency list $L$. \n",
    "2) Iterate over the nodes in the $V$. \n",
    "3) When on node $u$ check all of its neighbors. For a given neighbor $w$ add $u$ to the edge list of $w$ in the new adjacency list $L$. \n",
    "\n",
    "At the end $L$ will have all edges of $G$ but reversed. This takes $O(|E|+|V|)$ time since we must iterate over all nodes and their respective edges. Not sure if there is a way to do this in-place at the moment.\n"
   ]
  },
  {
   "cell_type": "markdown",
   "metadata": {},
   "source": [
    "### 3.15 Computopia"
   ]
  },
  {
   "cell_type": "markdown",
   "metadata": {},
   "source": [
    "a) To formulate this as a graph problem we represent the intersections in the city as nodes and the streets that connect them as *directed* edges. To solve this problem we just need to show that the graph has exactly 1 strongly connected component i.e. there is a path from intersection $u$ to intersection $v$ and path from intersection $v$ to intersection $u$ for all nodes $u$ and $v$ in the graph. This can be checked using Kosaraju's algorithm to get the meta-graph, which is $O(|V|+|E|)$, and checking that it contains only one node which is $O(1)$. \n",
    "\n",
    "b) This is equivalent to saying no matter what node you are on in the graph there is a path to get to node $t$ (the town hall)."
   ]
  },
  {
   "cell_type": "markdown",
   "metadata": {},
   "source": [
    "### 3.25 Minimum cost node"
   ]
  },
  {
   "cell_type": "markdown",
   "metadata": {},
   "source": [
    "a)\n",
    "\n",
    "\n",
    "\n",
    "b)\n"
   ]
  },
  {
   "cell_type": "code",
   "execution_count": 27,
   "metadata": {},
   "outputs": [
    {
     "name": "stdout",
     "output_type": "stream",
     "text": [
      "The watermark extension is already loaded. To reload it, use:\n",
      "  %reload_ext watermark\n",
      "Last updated: Sun Sep 29 2024\n",
      "\n",
      "Python implementation: CPython\n",
      "Python version       : 3.10.12\n",
      "IPython version      : 8.22.2\n",
      "\n",
      "matplotlib: 3.7.4\n",
      "networkx  : 3.2.1\n",
      "sympy     : 1.12\n",
      "\n"
     ]
    }
   ],
   "source": [
    "%load_ext watermark\n",
    "%watermark -n -u -v -iv"
   ]
  }
 ],
 "metadata": {
  "kernelspec": {
   "display_name": "Python 3",
   "language": "python",
   "name": "python3"
  },
  "language_info": {
   "codemirror_mode": {
    "name": "ipython",
    "version": 3
   },
   "file_extension": ".py",
   "mimetype": "text/x-python",
   "name": "python",
   "nbconvert_exporter": "python",
   "pygments_lexer": "ipython3",
   "version": "3.10.12"
  }
 },
 "nbformat": 4,
 "nbformat_minor": 2
}
