{
 "cells": [
  {
   "cell_type": "markdown",
   "metadata": {},
   "source": [
    "# Greedy algorithms"
   ]
  },
  {
   "cell_type": "markdown",
   "metadata": {},
   "source": [
    "Greedy algorithms are those which solve a problem by making *locally* optimal choices at each step of the algorithm. For example for the knapsack problem a greedy algorithm would scan the list of items and add the item with the highest value to weight ratio to the knapsack (assuming the item can fit). It would then repeat this process until there was no capacity left in the knapsack. This approach is pretty simple and straightforward but we shouldn't be surprised that for the knapsack problem it does not work. Remarkably however there are many other problems where a greedy approach *does* work. The important part of devising a greedy algorithm is proving that the greedy choice is in fact the optimal choice not just locally but *globally* as well."
   ]
  },
  {
   "cell_type": "markdown",
   "metadata": {},
   "source": [
    "## Activity-selection problem"
   ]
  },
  {
   "cell_type": "markdown",
   "metadata": {},
   "source": [
    "## Kruskal's algorithm "
   ]
  },
  {
   "cell_type": "markdown",
   "metadata": {},
   "source": [
    "An example of a greedy algorithm is Kruskal's algorithm for finding a minimum spanning tree (MST) of an undirected graph $G$."
   ]
  },
  {
   "cell_type": "markdown",
   "metadata": {},
   "source": [
    "````{prf:definition}\n",
    ":label: mst-def\n",
    "\n",
    "The *minimum spanning tree* of an undirected weighted graph $G$ is the a subset $E'$ of the edges $E$ that connects all vertices and contains no cycles and has the minium possible total edge weight i.e.\n",
    "\n",
    "$$\n",
    "\\sum_{e\\in E'} w(e)\n",
    "$$ \n",
    "\n",
    "is minimized where $w(e)$ denotes the weight of edge $e$.\n",
    "````"
   ]
  }
 ],
 "metadata": {
  "language_info": {
   "name": "python"
  }
 },
 "nbformat": 4,
 "nbformat_minor": 2
}
