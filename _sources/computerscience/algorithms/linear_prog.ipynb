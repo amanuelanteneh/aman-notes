{
 "cells": [
  {
   "cell_type": "markdown",
   "metadata": {},
   "source": [
    "# Linear programming"
   ]
  },
  {
   "cell_type": "markdown",
   "metadata": {},
   "source": [
    "```{epigraph}\n",
    "*Linear programming can be viewed as part of a great revolutionary development which has given mankind the ability to state\n",
    "general goals and to lay out a path of detailed decisions to take\n",
    "in order to “best” achieve its goals when faced with practical situations of great complexity.*\n",
    "\n",
    "-- George Dantzig, mathematician and inventor of the simplex algorithm\n",
    "```"
   ]
  },
  {
   "cell_type": "markdown",
   "metadata": {},
   "source": [
    "## Introduction"
   ]
  },
  {
   "cell_type": "markdown",
   "metadata": {},
   "source": [
    "Linear programming is an optimization method for solving a class of optimization problems called linear programs (LPs) which are problems whose objective function and constraints can be expressed as *linear* functions and inequalities."
   ]
  },
  {
   "cell_type": "markdown",
   "metadata": {},
   "source": [
    "A general optimization problem that can be solved using linear programming can be expressed as\n",
    "\n",
    "\\begin{align*}\n",
    "\\max_{x_1,..,x_n} \\quad & J(x_1,...,x_n)\\\\\n",
    "\\textrm{subject to} \\quad & a_{11}x_1 + a_{12}x_2 + \\dots a_{1n}x_n \\leq b_1\\\\\n",
    "  & a_{21}x_1 + a_{22}x_2 + \\dots a_{2n}x_n \\leq b_2 \\\\\n",
    "  & \\qquad \\qquad \\qquad \\vdots \\\\\n",
    "  & a_{m1}x_1 + a_{m2}x_2 + \\dots a_{mn}x_n \\leq b_m \\\\\n",
    "  & x_1,\\dots, x_n \\geq 0\n",
    "\\end{align*}\n",
    "\n",
    "where $J(x_1,...,x_n)$ is a linear function of the parameters/variables $x_1,...,x_n$ meaning it has the form\n",
    "\n",
    "\\begin{align*}\n",
    "J(x_1,...,x_n) = c_1x_1+\\dots+c_nx_n\n",
    "\\end{align*}\n",
    "\n",
    "where the $c_i$'s are constants. \n",
    "\n",
    "This can be expressed compactly using linear algebra as\n",
    "\n",
    "\\begin{align*}\n",
    "\\max_{x_1,..,x_n} \\quad & \\vec{c}^T\\vec{x}\\\\\n",
    "\\textrm{subject to} \\quad & A\\vec{x} \\leq \\vec{b}\\\\\n",
    "  & \\vec{x} \\geq 0\\\\\n",
    "\\end{align*}\n",
    "\n",
    "where\n",
    "\n",
    "\\begin{align*}\n",
    "&\\vec{c} = \\begin{bmatrix} c_1 \\\\ \\vdots \\\\ c_n \\end{bmatrix}, \\quad \\vec{x} = \\begin{bmatrix} x_1 \\\\ \\vdots \\\\ x_n \\end{bmatrix}, \\quad \\vec{b} = \\begin{bmatrix} b_1 \\\\ \\vdots \\\\ b_n \\end{bmatrix}\n",
    "\\\\\n",
    "\\\\ & \\qquad \\qquad \\qquad \\qquad \\textrm{and} \\\\ \\\\\n",
    "\n",
    "&A = \\begin{bmatrix} a_{11} & a_{12} & \\dots & a_{1n} \\\\\n",
    "                    a_{21} & a_{22} & \\dots & a_{2n} \\\\\n",
    "                    \\vdots & \\vdots & \\vdots & \\vdots \\\\\n",
    "                    a_{m1} & a_{m2} & \\dots & a_{mn}\n",
    " \\end{bmatrix}\n",
    "\\end{align*}"
   ]
  },
  {
   "cell_type": "markdown",
   "metadata": {},
   "source": [
    "The *feasible region* is the region of the parameter space where all the constraints are satisfied. There is also the *feasible set* which is just the set of points in the parameter space contained in the feasible region. If there is no feasible region and thus the feasible set is empty then we say the LP is infeasible. "
   ]
  },
  {
   "cell_type": "markdown",
   "metadata": {},
   "source": [
    "### Example: Manufacturing "
   ]
  },
  {
   "cell_type": "markdown",
   "metadata": {},
   "source": [
    "Suppose a company is trying to figure out how much of two products $A$ and $B$ they should manufacture (and thus sell) to maximize revenue. Suppose that one unit of $A$ generates $\\$1$ of revenue while one unit generates $\\$6$ of revenue. Further, suppose that the current manufacturing facility can produce up to $300$ units of $A$ and $200$ units of $B$ per day and the workers can cumulatively only work $700$ hours per day and it takes $1$ hour to manufacture $1$ unit of $A$ and $3$ hours to manufacture $1$ unit of $B$."
   ]
  },
  {
   "cell_type": "markdown",
   "metadata": {},
   "source": [
    "The objective function we want to maximize is the revenue which can be expressed as $J(x_A,x_B)=x_A+6x_B$ where $x_A$ is the number of units of product $A$ that are created and $x_B$ are the number of units of product $B$ which are created. This along with the constraints can be expressed as the following LP\n",
    "\n",
    "\\begin{align*}\n",
    "\\max_{x_A,x_B} \\quad & x_A+6x_B\\\\\n",
    "\\textrm{subject to} \\quad & x_A \\leq 300\\\\\n",
    "  \\quad & x_B \\leq 200 \\\\\n",
    "  & x_A+3x_B \\leq 700 \\\\\n",
    "  & x_A,x_B \\geq 0\n",
    "\\end{align*}"
   ]
  },
  {
   "cell_type": "markdown",
   "metadata": {},
   "source": [
    "## Simplex Algorithm"
   ]
  },
  {
   "cell_type": "markdown",
   "metadata": {},
   "source": [
    "## Duality"
   ]
  },
  {
   "cell_type": "markdown",
   "metadata": {},
   "source": [
    "The dual LP of a LP of the standard/canonical form\n",
    "\n",
    "\\begin{align*}\n",
    "\\max_{x_1,..,x_n} \\quad & \\vec{c}^T\\vec{x}\\\\\n",
    "\\textrm{subject to} \\quad & A\\vec{x} \\leq \\vec{b}\\\\\n",
    "  & \\vec{x} \\geq \\vec{0}\\\\\n",
    "\\end{align*}\n",
    "\n",
    "\n",
    "is given by \n",
    "\n",
    "\\begin{align*}\n",
    "\\min_{y_1,..,y_m} \\quad & \\vec{b}^T\\vec{y}\\\\\n",
    "\\textrm{subject to} \\quad & A^T\\vec{y} \\geq \\vec{c}\\\\\n",
    "  & \\vec{y}\\geq \\vec{0}\\\\\n",
    "\\end{align*}"
   ]
  },
  {
   "cell_type": "markdown",
   "metadata": {},
   "source": [
    "## Practice problems"
   ]
  },
  {
   "cell_type": "markdown",
   "metadata": {},
   "source": [
    "### 7.1 Linear programming example"
   ]
  },
  {
   "cell_type": "markdown",
   "metadata": {},
   "source": [
    "### 7.2 Duckwheat"
   ]
  },
  {
   "cell_type": "markdown",
   "metadata": {},
   "source": [
    "### 7.3 Cargo plane"
   ]
  },
  {
   "cell_type": "markdown",
   "metadata": {},
   "source": [
    "### 7.4 Regular Duff beer"
   ]
  },
  {
   "cell_type": "markdown",
   "metadata": {},
   "source": [
    "### 7.5 Canine Products company"
   ]
  },
  {
   "cell_type": "markdown",
   "metadata": {},
   "source": [
    "### 7.6 Unbounded with optimal"
   ]
  },
  {
   "cell_type": "markdown",
   "metadata": {},
   "source": [
    "### 7.7 LP scenarios"
   ]
  },
  {
   "cell_type": "markdown",
   "metadata": {},
   "source": [
    "### 7.8 MAE minimization "
   ]
  },
  {
   "cell_type": "markdown",
   "metadata": {},
   "source": [
    "### 7.9 Quadratic programming"
   ]
  },
  {
   "cell_type": "markdown",
   "metadata": {},
   "source": [
    "### 7.11 Dual to the example"
   ]
  },
  {
   "cell_type": "markdown",
   "metadata": {},
   "source": [
    "### 7.12 Optimally of solution"
   ]
  },
  {
   "cell_type": "markdown",
   "metadata": {},
   "source": [
    "### 7.18 Flow problem variants"
   ]
  },
  {
   "cell_type": "markdown",
   "metadata": {},
   "source": [
    "c)\n",
    "\n",
    "\n",
    "d)"
   ]
  }
 ],
 "metadata": {
  "language_info": {
   "name": "python"
  }
 },
 "nbformat": 4,
 "nbformat_minor": 2
}
