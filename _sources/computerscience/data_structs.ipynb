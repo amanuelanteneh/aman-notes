{
 "cells": [
  {
   "cell_type": "markdown",
   "metadata": {},
   "source": [
    "# Data Structures"
   ]
  },
  {
   "cell_type": "markdown",
   "metadata": {},
   "source": [
    "Data structures are objects that store data in different ways. Depending on the data structure it may have fast time complexity for a particular operation that is useful for your use case. \n",
    "\n",
    "These operations are usually {cite:p}`cormen2022introduction`\n",
    "\n",
    "`search(x)` to find an element in the data structure\n",
    "\n",
    "\n",
    "`insert(x)` to insert an element into the data structure\n",
    "\n",
    "`delete(x)` to delete an element from the data structure\n",
    "\n",
    "`max()` to find the maximum value in the data structure (based on some definition of ordering)\n",
    "\n",
    "`max()` to find the minimum value in the data structure (based on some definition of ordering)\n",
    "\n",
    "Below is a quick intro to some of the most common data structures along with how to use their built in version in `python`."
   ]
  },
  {
   "cell_type": "markdown",
   "metadata": {},
   "source": [
    "## List"
   ]
  },
  {
   "cell_type": "markdown",
   "metadata": {},
   "source": [
    "## Stack"
   ]
  },
  {
   "cell_type": "markdown",
   "metadata": {},
   "source": [
    "## Queue"
   ]
  },
  {
   "cell_type": "markdown",
   "metadata": {},
   "source": [
    "## Linked list"
   ]
  },
  {
   "cell_type": "markdown",
   "metadata": {},
   "source": [
    "## Hash table"
   ]
  },
  {
   "cell_type": "markdown",
   "metadata": {},
   "source": [
    "## Heap"
   ]
  },
  {
   "cell_type": "markdown",
   "metadata": {},
   "source": [
    "## Tree (binary search tree)"
   ]
  },
  {
   "cell_type": "markdown",
   "metadata": {},
   "source": [
    "## Disjoint-set data structure (union-find)"
   ]
  }
 ],
 "metadata": {
  "language_info": {
   "name": "python"
  }
 },
 "nbformat": 4,
 "nbformat_minor": 2
}
