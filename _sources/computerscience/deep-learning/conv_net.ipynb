{
 "cells": [
  {
   "cell_type": "markdown",
   "metadata": {},
   "source": [
    "# Convolutional neural network"
   ]
  },
  {
   "cell_type": "markdown",
   "metadata": {},
   "source": [
    "While simple fully connected feed-forward neural networks with nonlinear activation functions are incredibly expressive they become impractical when working with certain kinds of high-dimensional data such as images. If we were to use this type of network with images of size $100 \\times 100$ we would have $H \\times 100 \\times 100$ where $H$ is the size of the first hidden layer.  "
   ]
  },
  {
   "cell_type": "markdown",
   "metadata": {},
   "source": [
    "Kernel/filter same thing. Weights are the kernel values and are shared across the whole image. For a 1 channel image and a $K\\times K$ kernel we have $K \\times K$ weights. When we have more channels we need a serpate filter for each channel so we end up with $C \\times K \\times K$ weights. Typically multiple, $N$, filters are used in a convolutional layer resulting in $N \\times C \\times K \\times K$ total weights for the convolutional layer."
   ]
  }
 ],
 "metadata": {
  "language_info": {
   "name": "python"
  }
 },
 "nbformat": 4,
 "nbformat_minor": 2
}
