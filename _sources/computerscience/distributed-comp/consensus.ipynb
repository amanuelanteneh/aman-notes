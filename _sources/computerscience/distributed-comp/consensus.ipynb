{
 "cells": [
  {
   "cell_type": "markdown",
   "id": "ccaf9b7a",
   "metadata": {},
   "source": [
    "# Consensus"
   ]
  }
 ],
 "metadata": {
  "language_info": {
   "name": "python"
  }
 },
 "nbformat": 4,
 "nbformat_minor": 5
}
