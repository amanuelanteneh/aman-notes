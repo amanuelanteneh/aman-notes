{
 "cells": [
  {
   "cell_type": "markdown",
   "metadata": {},
   "source": [
    "# Apache Spark"
   ]
  },
  {
   "cell_type": "markdown",
   "metadata": {},
   "source": [
    "## Spark Architecture "
   ]
  },
  {
   "cell_type": "markdown",
   "metadata": {},
   "source": [
    "In Spark computations are broken into to two rough categories: transformations and actions."
   ]
  },
  {
   "cell_type": "markdown",
   "metadata": {},
   "source": [
    "### Transformations"
   ]
  },
  {
   "cell_type": "markdown",
   "metadata": {},
   "source": [
    "An important thing to note about transformations in Spark is that, generally, they are *lazy* operations; meaning they aren't accualy performed/computed until the resulting dataframe/result set is needed. Generally this means the transformation isn't applied until an *action* is specified. \n",
    "\n",
    "There are two types of transformations: narrow and wide transformations. The difference between the two is that *wide* transformations induce what is called a *shuffle* (also called an *exchange*). A shuffle is when a *repartitioning* of the dataset is required. Spark basically works by partitioning the dataset into subsets and having each worker perform the specified computation on a partition of the data. It's easy to think of transformations that would require a shuffle such as the `sort()` operation. Clearly this will require an exchange/shuffle since one needs to compare rows from different partitions to perform a sort. And example of a narrow transformation is the `filter()` transformation. Clearly there is no need to compare rows across partitions to accomplish this operation since we just need to check if a row fulfills the criteria in the filter clause to compute the result set."
   ]
  },
  {
   "cell_type": "markdown",
   "metadata": {},
   "source": [
    "Heirarchy\n",
    "\n",
    "    Driver \n",
    "         |___Workers\n",
    "                   |___Executors\n",
    "                               |____Cores"
   ]
  },
  {
   "cell_type": "markdown",
   "metadata": {},
   "source": [
    "## Structured Streaming"
   ]
  },
  {
   "cell_type": "markdown",
   "metadata": {},
   "source": [
    "## Practice questions"
   ]
  },
  {
   "cell_type": "markdown",
   "metadata": {},
   "source": [
    "These are practice exam questions from the March 2025 practice exam provided by Databricks for the 'Databricks Certified Associate Developer for Apache Spark 3.0 - Python' certification exam. The pdf of the exam is available in the `pdfs/` folder of this section in the JupyterBook."
   ]
  },
  {
   "cell_type": "markdown",
   "metadata": {},
   "source": [
    "### Question 1"
   ]
  }
 ],
 "metadata": {
  "language_info": {
   "name": "python"
  }
 },
 "nbformat": 4,
 "nbformat_minor": 2
}
