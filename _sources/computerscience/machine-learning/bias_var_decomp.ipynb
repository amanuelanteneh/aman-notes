{
 "cells": [
  {
   "cell_type": "markdown",
   "id": "93bae3a9",
   "metadata": {},
   "source": [
    "# Bias-variance decomposition"
   ]
  }
 ],
 "metadata": {
  "language_info": {
   "name": "python"
  }
 },
 "nbformat": 4,
 "nbformat_minor": 5
}
