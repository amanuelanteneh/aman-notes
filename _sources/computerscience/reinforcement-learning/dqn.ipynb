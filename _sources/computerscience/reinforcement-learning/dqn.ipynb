{
 "cells": [
  {
   "cell_type": "markdown",
   "metadata": {},
   "source": [
    "# Deep $Q$-learning"
   ]
  },
  {
   "cell_type": "code",
   "execution_count": 9,
   "metadata": {
    "tags": [
     "hide-input"
    ]
   },
   "outputs": [
    {
     "data": {
      "text/plain": [
       "<torch._C.Generator at 0x7f864bd6cd50>"
      ]
     },
     "execution_count": 9,
     "metadata": {},
     "output_type": "execute_result"
    }
   ],
   "source": [
    "import random\n",
    "from collections import deque\n",
    "\n",
    "import gymnasium as gym\n",
    "import torch\n",
    "from torch import nn\n",
    "\n",
    "random.seed(75)  # set random seeds for reproducibility \n",
    "torch.manual_seed(75)"
   ]
  },
  {
   "cell_type": "code",
   "execution_count": null,
   "metadata": {},
   "outputs": [],
   "source": [
    "class DeepQNetwork(nn.Module):\n",
    "    def __init__(self, input_dim: int, hidden_dims: list[int], output_dim: int, activation_fn: nn.Module):\n",
    "        super().__init__()\n",
    "        assert len(hidden_dims) > 0, \"Must have at least one hidden layer.\"\n",
    "        \n",
    "        # add input layer\n",
    "        self.layers = nn.ModuleList([nn.Linear(in_features=input_dim, out_features=hidden_dims[0])])\n",
    "        self.layers.append(activation_fn())\n",
    "\n",
    "        # add hidden layers\n",
    "        for i in range(1, len(hidden_dims)-1):\n",
    "            self.layers.append( nn.Linear(in_features=hidden_dims[i-1], out_features=hidden_dims[i]) )\n",
    "            self.layers.append(activation_fn())\n",
    "        \n",
    "        # add output layer\n",
    "        self.layers.append( nn.Linear(in_features=hidden_dims[-1], out_features=output_dim) )\n",
    "\n",
    "    def forward(self, input: torch.Tensor) -> torch.Tensor:\n",
    "        for layer in self.layers:\n",
    "            input = layer(input)\n",
    "        \n",
    "        pass\n",
    "\n",
    "\n",
    "class DQNTrainer:\n",
    "\n",
    "    def __init__(self, buffer_size: int, batch_size: int, qnet: nn.Module):\n",
    "        self.replay_buffer = deque([], maxlen=buffer_size)  # initialize replay buffer/memory\n",
    "        self.batch_size = batch_size\n",
    "        self.qnet = qnet\n",
    "        self.target_qnet = target_qnet\n",
    "    \n",
    "    def train(self):\n",
    "\n",
    "        minibatch = random.sample(self.replay_buffer, self.batch_size)  # sample uniformly without replacement\n",
    "\n",
    "        qnet_state_dict = self.qnet.state_dict()\n",
    "        \n",
    "        if t % C == 0:\n",
    "           self.target_qnet.load_state_dict(qnet_state_dict)  # \\hat{Q} = Q"
   ]
  },
  {
   "cell_type": "code",
   "execution_count": 17,
   "metadata": {},
   "outputs": [
    {
     "name": "stdout",
     "output_type": "stream",
     "text": [
      "DeepQNetwork(\n",
      "  (layers): ModuleList(\n",
      "    (0): Linear(in_features=200, out_features=100, bias=True)\n",
      "    (1): Tanh()\n",
      "    (2): Linear(in_features=100, out_features=50, bias=True)\n",
      "    (3): Tanh()\n",
      "    (4): Linear(in_features=50, out_features=25, bias=True)\n",
      "    (5): Tanh()\n",
      "    (6): Linear(in_features=25, out_features=10, bias=True)\n",
      "    (7): Tanh()\n",
      "    (8): Linear(in_features=5, out_features=2, bias=True)\n",
      "  )\n",
      ")\n"
     ]
    }
   ],
   "source": [
    "net = DeepQNetwork(200, [100, 50, 25, 10, 5], 2, nn.Tanh)\n",
    "print(net)"
   ]
  },
  {
   "cell_type": "code",
   "execution_count": 2,
   "metadata": {},
   "outputs": [],
   "source": [
    "env = gym.make(\"LunarLander-v3\", render_mode=\"rgb_array\")"
   ]
  },
  {
   "cell_type": "code",
   "execution_count": 5,
   "metadata": {},
   "outputs": [
    {
     "name": "stdout",
     "output_type": "stream",
     "text": [
      "[-0.00915499  1.398767   -0.46301442 -0.2829145   0.01050018  0.10380006\n",
      "  0.          0.        ] -1.1221082318330957 False False {}\n"
     ]
    }
   ],
   "source": [
    "env.reset()\n",
    "action = env.action_space.sample()\n",
    "\n",
    "# step (transition) through the environment with the action\n",
    "# receiving the next observation, reward and if the episode has terminated or truncated\n",
    "observation, reward, terminated, truncated, info = env.step(action)\n",
    "\n",
    "print(observation, reward, terminated, truncated, info)"
   ]
  }
 ],
 "metadata": {
  "kernelspec": {
   "display_name": "Python 3",
   "language": "python",
   "name": "python3"
  },
  "language_info": {
   "codemirror_mode": {
    "name": "ipython",
    "version": 3
   },
   "file_extension": ".py",
   "mimetype": "text/x-python",
   "name": "python",
   "nbconvert_exporter": "python",
   "pygments_lexer": "ipython3",
   "version": "3.10.12"
  }
 },
 "nbformat": 4,
 "nbformat_minor": 2
}
