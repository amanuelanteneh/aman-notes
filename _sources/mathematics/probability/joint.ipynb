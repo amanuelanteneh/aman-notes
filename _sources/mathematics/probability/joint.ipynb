{
 "cells": [
  {
   "cell_type": "markdown",
   "metadata": {},
   "source": [
    "# Joint distributions"
   ]
  },
  {
   "cell_type": "markdown",
   "metadata": {},
   "source": [
    "In many real world applications one is interested in not just a single random variable but multiple. For example modeling the height _and_ weight of a randomly selected adult from a population."
   ]
  },
  {
   "cell_type": "markdown",
   "metadata": {},
   "source": [
    "## Marginal distributions"
   ]
  },
  {
   "cell_type": "markdown",
   "metadata": {},
   "source": [
    "Given a joint PDF $p(x,y)$ or PMF $P(x,y)$ one can recover the PDF or PMF of a single random variable\n",
    "by either summing (in the PMF case) or integrating (in the PDF case) over the all other random variables like so\n",
    "\n",
    "$$\n",
    "P(x) = \\sum_yP(x,y)\n",
    "$$\n",
    "\n",
    "$$\n",
    "P(y) = \\sum_xP(x,y), \n",
    "$$\n",
    "\n",
    "$$\n",
    "p(x) = \\int p(x,y)dy, \n",
    "$$\n",
    "\n",
    "$$\n",
    "p(y) = \\int p(x,y)dx\n",
    "$$\n",
    "\n",
    "these are called the *marginal distributions* of the random variables that make up the joint random variable. They are called \"marginal\" since they can be found by summing values in a table along rows or columns (in the PMF case), and writing the sum in the margins of the table."
   ]
  }
 ],
 "metadata": {
  "kernelspec": {
   "display_name": "Python 3",
   "language": "python",
   "name": "python3"
  },
  "language_info": {
   "name": "python",
   "version": "3.10.12"
  }
 },
 "nbformat": 4,
 "nbformat_minor": 2
}
