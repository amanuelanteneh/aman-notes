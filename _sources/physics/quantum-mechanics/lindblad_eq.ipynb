{
 "cells": [
  {
   "cell_type": "markdown",
   "metadata": {},
   "source": [
    "# Lindblad master equation"
   ]
  },
  {
   "cell_type": "markdown",
   "metadata": {},
   "source": [
    "The Lindblad master equation is a stochastic differential equation that can be used to describe open quantum systems i.e. quantum systems that interact with their environment. It therefore can describe evolutions of quantum systems that are non-unitary unlike the Schrödinger and von Neumann equations for the unitary evolution of state vectors and density matrices respectively. Since the Lindbladian can describe non-unitary evolution, which in general produces mixed states, it is formalized in terms of the density matrix.\n",
    "\n",
    "The Lindblad master equation is {cite:p}`manzano2020short`\n",
    "\n",
    "\n",
    "$$\n",
    "\\frac{d}{dt}\\rho = -i[H, \\rho] + \\sum_{k} \\Gamma_k \\left( L_k\\rho L_k^\\dagger - \\frac{1}{2}\\left\\{L_kL_k^\\dagger, \\rho\\right\\} \\right)\n",
    "$$\n",
    "\n",
    "where $\\{A,B\\}=AB+BA$ is the anticommutator, $\\Gamma_k$ is"
   ]
  }
 ],
 "metadata": {
  "language_info": {
   "name": "python"
  }
 },
 "nbformat": 4,
 "nbformat_minor": 2
}
