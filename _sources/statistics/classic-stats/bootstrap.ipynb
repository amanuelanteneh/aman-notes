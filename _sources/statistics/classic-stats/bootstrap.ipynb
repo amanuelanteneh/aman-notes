{
 "cells": [
  {
   "cell_type": "markdown",
   "metadata": {},
   "source": [
    "# Bootstrapping"
   ]
  },
  {
   "cell_type": "markdown",
   "metadata": {},
   "source": [
    "Bootstrapping, also sometimes referred to as the bootstrap, is method which allows us to compute an estimate of the uncertainty (standard error) for a statistical model {cite:p}`freedman2009statistical, james2023statistical, devore2015probability`. \n",
    "\n",
    "The bootstrap method proceeds by first creating $B$ datasets, called _bootstrap datasets_ {cite:p}`james2023statistical` or _bootstrap samples_ {cite:p}`freedman2009statistical`, by sampling $n$ points, with replacement, from our original dataset $D$ which is of size $n$ (so these bootstrap datasets all have the same size as the $D$). The key is that we sample ***with replacement*** when creating each of these $B$ datasets so each bootstrap dataset may contain duplicate data points (or may not even contain all the unique data points).\n",
    "\n",
    "Suppose we wanted to obtain an estimate of the population mean of a distribution with PDF $f(x; \\theta)$ given $n$ samples $X_1,X_2,\\dots,X_n$ from that distribution. For concreteness lets say the distribution is a gamma distribution \n",
    "\n",
    "$$\n",
    " f(x; \\alpha, \\theta) = \\frac{1}{\\Gamma(\\alpha)\\theta^\\alpha}x^{\\alpha-1}e^{-x/\\theta}\n",
    "$$\n",
    "\n",
    "with shape parameter $\\alpha=1$ and scale parameter $\\theta=2$ meaning that the population mean is $\\alpha\\theta=2$ (naturally we don't know this of course). While this situation maybe somewhat contrived it is actually very general. There are many times in the real world where one does not know the true distribution the samples where drawn from, and it is prohibitively expensive to acquire more samples. So how can we estimate the population mean $\\mu=\\alpha\\theta$? Well one way would be to just use the sample mean $\\bar{X}=\\frac{1}{n}\\sum_{i=1}^nX_i$ as an estimate of $\\mu$."
   ]
  }
 ],
 "metadata": {
  "language_info": {
   "name": "python"
  }
 },
 "nbformat": 4,
 "nbformat_minor": 2
}
