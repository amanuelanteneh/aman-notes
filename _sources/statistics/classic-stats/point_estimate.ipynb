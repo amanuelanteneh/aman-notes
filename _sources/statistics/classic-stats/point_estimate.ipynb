{
 "cells": [
  {
   "cell_type": "markdown",
   "id": "38a9e3d5",
   "metadata": {},
   "source": [
    "# Point estimation "
   ]
  },
  {
   "cell_type": "markdown",
   "id": "f2d74720",
   "metadata": {},
   "source": [
    "\"Given a parameter of interest, such as a population mean $\\mu$ or population proportion $p$, the objective of point estimation is to use a sample to compute a number that represents in some sense an educated guess for the true value of the parameter. The resulting number is called a point estimate.\" {cite:p}`devore2015probability`\n",
    "\n",
    "This is a problem that is central to all scientific research. An example of a method to compute such an estimate is the famous maximum likelihood estimation (MLE) method."
   ]
  },
  {
   "cell_type": "markdown",
   "id": "6e36af94",
   "metadata": {},
   "source": [
    "````{prf:definition}\n",
    ":label: point-estimator\n",
    "\n",
    "A *point estimate* of a parameter $\\theta$ is a single number that can be regarded as a sensible value for $\\theta$. \n",
    "It is obtained by selecting a suitable statistic and computing its value from the given sample data. The selected statistic is called the\n",
    "*point estimator* of $\\theta$  {cite:p}`devore2015probability`.\n",
    "````"
   ]
  }
 ],
 "metadata": {
  "kernelspec": {
   "display_name": "Python 3",
   "language": "python",
   "name": "python3"
  },
  "language_info": {
   "name": "python",
   "version": "3.10.12"
  }
 },
 "nbformat": 4,
 "nbformat_minor": 5
}
