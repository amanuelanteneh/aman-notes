{
 "cells": [
  {
   "cell_type": "markdown",
   "metadata": {},
   "source": [
    "# Prototypical neural networks"
   ]
  },
  {
   "cell_type": "markdown",
   "metadata": {},
   "source": [
    "Prototypical networks are a type of neural network proposed for the task of few-shot learning i.e. the task of learning to classify examples from classes not seen during training after being given only a few examples of the new classes."
   ]
  },
  {
   "cell_type": "markdown",
   "metadata": {},
   "source": [
    "````{prf:observation} Squared Euclidean distance is a regular Bregman divergence\n",
    ":class: dropdown\n",
    "\n",
    "As stated in the paper a regular Bregman divergence is any distance function $d(\\vec{z}, \\vec{z}')$ that can be written as\n",
    "\n",
    "$$\n",
    "d(\\vec{z}, \\vec{z}') = \\varphi(\\vec{z}) - \\varphi(\\vec{z}') - (\\vec{z}-\\vec{z}')^T \\nabla \\varphi(\\vec{z}')\n",
    "$$\n",
    "\n",
    "where $\\varphi(\\cdot)$ is a differentiable, strictly convex function of the Legendre type.\n",
    "\n",
    "The squared Euclidean distance of two vectors $\\vec{x}, \\vec{y} \\in \\mathbb{R}^N$ is given by\n",
    "\n",
    "$$\n",
    "\\begin{align}\n",
    "||\\vec{x}-\\vec{y}||^2 &= \\left(\\sqrt{ (x_1-y_1)^2 + (x_2-y_2)^2 + \\dots + (x_N-y_N)^2 }\\right)^2  \\\\\n",
    "&= (x_1-y_1)^2 + (x_2-y_2)^2 + \\dots + (x_N-y_N)^2 \\\\\n",
    "&= (x_1^2-2x_1y_1 + y_1^2) + (x_2^2-2x_2y_2 + y_2^2) + \\dots +  (x_N^2-2x_Ny_N + y_N^2) \\\\\n",
    "\\end{align}\n",
    "$$\n",
    "\n",
    "Letting $\\varphi(\\vec{y})=\\sum_{i=1}^{N}y_i^2$, which is clearly differentiable and strictly convex as it is the sum of strictly convex differentiable functions, we have \n",
    "\n",
    "$$\n",
    "\\nabla\\varphi(\\vec{y})=[2y_1,...,2y_N].\n",
    "$$ \n",
    "\n",
    "And of course \n",
    "\n",
    "$$\n",
    "(\\vec{x}-\\vec{y})=[x_1-y_1,...,x_N-y_N]\n",
    "$$\n",
    "\n",
    "Plugging all of this into Eq. 3 from the paper we have\n",
    "\n",
    "$$\n",
    "\\begin{align}\n",
    "d_\\varphi(\\vec{x}, \\vec{y}) &= \\varphi(\\vec{x})-\\varphi(\\vec{y})-(\\vec{x}-\\vec{y})^T\\nabla\\varphi(\\vec{y}) \\\\\n",
    "&= \\sum_{i=1}^{N}x_i^2 - \\sum_{i=1}^{N}y_i^2 - [x_1-y_1,...,x_N-y_N]^T[2y_1,...,2y_N]\\\\\n",
    "&= \\sum_{i=1}^{N}x_i^2 - \\sum_{i=1}^{N}y_i^2 - \\sum_{i=1}^{N} (2x_iy_i - 2y_i^2) \\\\\n",
    "&= \\sum_{i=1}^{N}x_i^2 - \\sum_{i=1}^{N}y_i^2 - \\sum_{i=1}^{N} 2x_iy_i + \\sum_{i=1}^{N} 2y_i^2 \\\\\n",
    "&= \\sum_{i=1}^{N}x_i^2 + \\sum_{i=1}^{N}y_i^2 - \\sum_{i=1}^{N} 2x_iy_i \\\\\n",
    "&= (x_1^2-2x_1y_1 + y_1^2) + (x_2^2-2x_2y_2 + y_2^2) + \\dots +  (x_N^2-2x_Ny_N + y_N^2) \\\\ \n",
    "&= ||\\vec{x}-\\vec{y}||^2 \\quad \\blacksquare\n",
    "\\end{align}\n",
    "\n",
    "$$\n",
    "\n",
    "We have thus proven that the squared Euclidean distance is in fact a regular Bregman divergence.\n",
    "````"
   ]
  },
  {
   "cell_type": "code",
   "execution_count": 70,
   "metadata": {},
   "outputs": [],
   "source": [
    "import random\n",
    "from math import log, exp\n",
    "\n",
    "import torch\n",
    "import torch.nn.functional as F\n",
    "from torchvision import datasets, transforms\n",
    "from torch import nn, optim, Tensor\n",
    "from torch.utils.data import Dataset\n",
    "import matplotlib.pyplot as plt"
   ]
  },
  {
   "cell_type": "code",
   "execution_count": 3,
   "metadata": {},
   "outputs": [
    {
     "name": "stdout",
     "output_type": "stream",
     "text": [
      "Labels in dataset: [0, 1, 2, 3, 4, 5, 6, 7, 8, 9]\n",
      "[1, 8, 7, 3]\n"
     ]
    },
    {
     "data": {
      "text/plain": [
       "torchvision.datasets.mnist.MNIST"
      ]
     },
     "execution_count": 3,
     "metadata": {},
     "output_type": "execute_result"
    }
   ],
   "source": [
    "mnist = datasets.MNIST(\n",
    "    root=\"../../../datasets/\",\n",
    "    download=True,\n",
    "    train=True,\n",
    "    transform=transforms.RandomRotation((0, 360)),\n",
    ")\n",
    "unique_labels = torch.unique(mnist.targets).tolist()\n",
    "print(f\"Labels in dataset: {unique_labels}\")\n",
    "\n",
    "V = random.sample(unique_labels, 4)\n",
    "print(V)\n",
    "# print(mnist)\n",
    "type(mnist)"
   ]
  },
  {
   "cell_type": "code",
   "execution_count": 4,
   "metadata": {},
   "outputs": [
    {
     "name": "stdout",
     "output_type": "stream",
     "text": [
      "Shape of image is (28, 28)\n"
     ]
    },
    {
     "data": {
      "text/plain": [
       "<matplotlib.image.AxesImage at 0x7f62650974c0>"
      ]
     },
     "execution_count": 4,
     "metadata": {},
     "output_type": "execute_result"
    },
    {
     "data": {
      "image/png": "[encoded data removed]",
      "text/plain": [
       "<Figure size 640x480 with 1 Axes>"
      ]
     },
     "metadata": {},
     "output_type": "display_data"
    }
   ],
   "source": [
    "class_7_idx = mnist.targets == 1\n",
    "dataset_7 = mnist\n",
    "dataset_7.data = dataset_7.data[class_7_idx]\n",
    "dataset_7.targets = dataset_7.targets[class_7_idx]\n",
    "\n",
    "print(f\"Shape of image is {dataset_7[0][0].size}\")\n",
    "plt.imshow(dataset_7[0][0], cmap=\"gray\", vmin=0, vmax=255)"
   ]
  },
  {
   "cell_type": "markdown",
   "metadata": {},
   "source": [
    "```{warning}\n",
    ":class: dropdown\n",
    "Both the preprint and the published version of the prototypical networks paper appear to have a typo in Algorithm 1. The prototypes are computed \n",
    "as \n",
    "\n",
    "$$\n",
    "\\mathbf{c}_k \\leftarrow \\frac{1}{N_C} \\sum_{(\\mathbf{x}_i,y_i)\\in S_k} f_\\phi(\\mathbf{x}_i)\n",
    "$$\n",
    "\n",
    "which appears to directly contradict Equation 1 in the paper which divides the sum by the cardinality of the support set (which is correct).\n",
    "```"
   ]
  },
  {
   "cell_type": "code",
   "execution_count": 159,
   "metadata": {},
   "outputs": [],
   "source": [
    "def convolutional_block(in_channels: int, out_channels: int = 64) -> nn.Module:\n",
    "    \"\"\"\n",
    "    Returns a block conv-bn-relu-maxpool layer a described in the paper.\n",
    "    \"\"\"\n",
    "\n",
    "    return nn.Sequential(\n",
    "        # in the paper 64 out_channels (feature maps) were used with a kernel of size 3x3\n",
    "        nn.Conv2d(in_channels, out_channels, kernel_size=3, padding=1),\n",
    "        nn.BatchNorm2d(out_channels),\n",
    "        nn.ReLU(),\n",
    "        # in the paper a 2x2 max pooling layer was used\n",
    "        nn.MaxPool2d(2),\n",
    "    )\n",
    "\n",
    "\n",
    "class PrototypicalNetwork(nn.Module):\n",
    "    def __init__(self, input_dim: int, hidden_dim: int, output_dim: int):\n",
    "        super().__init__()\n",
    "\n",
    "        self.encoder = nn.Sequential(\n",
    "            convolutional_block(input_dim, hidden_dim),\n",
    "            convolutional_block(hidden_dim, hidden_dim),\n",
    "            convolutional_block(hidden_dim, hidden_dim),\n",
    "            convolutional_block(hidden_dim, output_dim),\n",
    "        )\n",
    "\n",
    "    def forward(self, input: Tensor) -> Tensor:\n",
    "        output = self.encoder(input)\n",
    "        output = output.view(output.shape[0], -1)  # flatten last conv layer output\n",
    "        # output = F.normalize(output, dim=0)  # make unit length\n",
    "        return output"
   ]
  },
  {
   "cell_type": "code",
   "execution_count": null,
   "metadata": {},
   "outputs": [],
   "source": [
    "class PrototypicalNetworkTrainer:\n",
    "    def __init__(self, model: nn.Module, device: str, learning_rate: float):\n",
    "        self.model = model\n",
    "\n",
    "        # handle case where device is given as cuda but no gpu is available\n",
    "        if torch.cuda.is_available() and device == \"cuda\":\n",
    "            self.device = device\n",
    "        else:\n",
    "            self.device = \"cpu\"\n",
    "\n",
    "        self.model.to(self.device)\n",
    "        self.learning_rate = learning_rate\n",
    "        self.optimizer = optim.Adam(model.parameters(), lr=learning_rate)\n",
    "\n",
    "    def train(\n",
    "        self,\n",
    "        dataset: datasets.VisionDataset,\n",
    "        num_labels: int,\n",
    "        n_support_points: int,\n",
    "        n_query_points: int,\n",
    "        num_episodes: int,\n",
    "        distance_func: callable,\n",
    "    ) -> list[float]:\n",
    "        \"\"\"\n",
    "        Args:\n",
    "            model:\n",
    "            dataset: The training set, \\mathcal{D} in the paper\n",
    "            num_labels: N_C in the paper\n",
    "            n_support_points: N_S in the paper\n",
    "            n_query_points: N_Q in the paper\n",
    "\n",
    "        \"\"\"\n",
    "        print(f\"Training device: {self.device}\")\n",
    "        self.model.train()\n",
    "\n",
    "        # move data to proper device and cast to float and normalize\n",
    "        dataset.data = dataset.data.float() / 255\n",
    "        dataset.data = dataset.data.to(self.device)\n",
    "        dataset.targets = dataset.targets.to(self.device)\n",
    "\n",
    "        losses = []\n",
    "\n",
    "        if len(dataset.data.shape) < 4:\n",
    "            # add color channel dimension after batch dimension if there isn't one (MNIST)\n",
    "            # assuming dimension 0 is a batch dimension\n",
    "            dataset.data = torch.unsqueeze(dataset.data, dim=1)\n",
    "\n",
    "        unique_labels = torch.unique(dataset.targets).tolist()\n",
    "\n",
    "        for episode in range(num_episodes):\n",
    "            V = random.sample(unique_labels, num_labels)\n",
    "           \n",
    "            query_sets = {}\n",
    "            prototypes = {}  # prototypes shape will be 'num classes' x 'embedding dimension'\n",
    "            for k in V:\n",
    "                class_indices = dataset.targets == k\n",
    "                labeled_k = dataset.data[class_indices]\n",
    "                all_indices = torch.randperm(len(labeled_k)).tolist()\n",
    "\n",
    "                # randomly sample N_S support examples\n",
    "                support_indices = all_indices[:n_support_points]\n",
    "                support_set = labeled_k[support_indices]\n",
    "\n",
    "                # randomly sample N_Q support examples from set D_{V_k}\\S_k (i.e. support examples removed)\n",
    "                remaining_indices = torch.randperm(\n",
    "                    len(labeled_k[n_support_points:])\n",
    "                ).tolist()\n",
    "\n",
    "                query_indices = remaining_indices[:n_query_points]\n",
    "\n",
    "                query_sets[k] = labeled_k[query_indices]\n",
    "                \n",
    "                prototypes[k] = (\n",
    "                    torch.sum(self.model(support_set), dim=0) / n_support_points\n",
    "                )\n",
    "\n",
    "            loss = 0\n",
    "            self.optimizer.zero_grad()\n",
    "            # compute loss\n",
    "            for k in V:\n",
    "                for query_point in query_sets[k]:\n",
    "                    # add batch dimension\n",
    "                    input = torch.unsqueeze(query_point, dim=0)\n",
    "                    # compute f_\\phi(x)\n",
    "                    embedded_point = self.model(input)\n",
    "\n",
    "                    # compute second term in loss equation\n",
    "                    for label in V:\n",
    "                        distance = distance_func(embedded_point, prototypes[label])\n",
    "                        loss += torch.exp(-distance)\n",
    "                        # print(f\"Loss: {loss}, dist: {distance}, torch.exp(-distance): {torch.exp(-distance)}\")\n",
    "\n",
    "                    \n",
    "                    loss = torch.log(loss)\n",
    "\n",
    "                    # compute first term in loss equation\n",
    "                    loss += distance_func(embedded_point, prototypes[k])\n",
    "\n",
    "                    loss /= num_labels * n_query_points\n",
    "\n",
    "            \n",
    "            loss.backward()\n",
    "            self.optimizer.step()\n",
    "\n",
    "            losses.append(loss.item())\n",
    "\n",
    "        return losses\n",
    "\n",
    "\n",
    "def squared_euclidean_distance(x: Tensor, y: Tensor) -> float:\n",
    "    \"\"\"\n",
    "    Computes the squared Euclidean distance between two tensors\n",
    "    Args:\n",
    "        x: a tensor of size (N,)\n",
    "        y: a tensor of size (N,)\n",
    "    Returns:\n",
    "        The squared Euclidean distance between the two tensors\n",
    "    \"\"\"\n",
    "    return torch.linalg.norm(x - y) ** 2\n"
   ]
  },
  {
   "cell_type": "code",
   "execution_count": null,
   "metadata": {},
   "outputs": [
    {
     "name": "stdout",
     "output_type": "stream",
     "text": [
      "Training on cuda\n"
     ]
    }
   ],
   "source": [
    "model = PrototypicalNetwork(input_dim=1, hidden_dim=64, output_dim=64)\n",
    "\n",
    "trainer = PrototypicalNetworkTrainer(model=model, device=\"cuda\", learning_rate=1e-3)\n",
    "\n",
    "mnist_dataset = datasets.MNIST(\n",
    "    root=\"../../../datasets/\",\n",
    "    download=True,\n",
    "    train=True,\n",
    "    transform=transforms.RandomRotation((0, 360)),\n",
    ")\n",
    "\n",
    "\n",
    "losses = trainer.train(\n",
    "    mnist_dataset,\n",
    "    num_labels=5,\n",
    "    n_support_points=30,\n",
    "    n_query_points=30,\n",
    "    distance_func=squared_euclidean_distance,\n",
    "    num_episodes=50,\n",
    ")"
   ]
  },
  {
   "cell_type": "code",
   "execution_count": 232,
   "metadata": {},
   "outputs": [
    {
     "data": {
      "text/plain": [
       "[<matplotlib.lines.Line2D at 0x7f6227495690>]"
      ]
     },
     "execution_count": 232,
     "metadata": {},
     "output_type": "execute_result"
    },
    {
     "data": {
      "image/png": "[encoded data removed]",
      "text/plain": [
       "<Figure size 640x480 with 1 Axes>"
      ]
     },
     "metadata": {},
     "output_type": "display_data"
    }
   ],
   "source": [
    "plt.xlabel(\"Episode number\")\n",
    "plt.ylabel(\"Loss\")\n",
    "plt.plot(losses)"
   ]
  },
  {
   "cell_type": "code",
   "execution_count": null,
   "metadata": {},
   "outputs": [
    {
     "name": "stdout",
     "output_type": "stream",
     "text": [
      "Last updated: Sun Mar 23 2025\n",
      "\n",
      "Python implementation: CPython\n",
      "Python version       : 3.10.12\n",
      "IPython version      : 8.22.2\n",
      "\n",
      "matplotlib : 3.7.4\n",
      "torchvision: 0.21.0\n",
      "torch      : 2.6.0\n",
      "optuna     : 4.2.1\n",
      "\n"
     ]
    }
   ],
   "source": [
    "%load_ext watermark\n",
    "%watermark -n -u -v -iv"
   ]
  }
 ],
 "metadata": {
  "kernelspec": {
   "display_name": "Python 3",
   "language": "python",
   "name": "python3"
  },
  "language_info": {
   "codemirror_mode": {
    "name": "ipython",
    "version": 3
   },
   "file_extension": ".py",
   "mimetype": "text/x-python",
   "name": "python",
   "nbconvert_exporter": "python",
   "pygments_lexer": "ipython3",
   "version": "3.10.12"
  }
 },
 "nbformat": 4,
 "nbformat_minor": 2
}
