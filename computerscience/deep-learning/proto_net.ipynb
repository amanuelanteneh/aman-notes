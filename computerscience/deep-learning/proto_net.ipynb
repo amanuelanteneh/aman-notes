{
 "cells": [
  {
   "cell_type": "markdown",
   "metadata": {},
   "source": [
    "# Prototypical neural networks"
   ]
  },
  {
   "cell_type": "markdown",
   "metadata": {},
   "source": [
    "Prototypical networks are a type of neural network proposed for the task of few-shot learning i.e. the task of learning to classify examples from classes not seen during training after being given only a few examples of the new classes.\n",
    "\n",
    "The training of a prototypical network consists of minimizing the loss function\n",
    "\n",
    "$$\n",
    "\\begin{align*}\n",
    "J(\\mathbf{x}, y; \\phi) &= -\\log\\left( \\frac{\\exp{(-d(f_\\phi(\\mathbf{x})), \\mathbf{c}_y )}} {\\sum_{l}\\exp{(-d(f_\\phi(\\mathbf{x})), \\mathbf{c}_{l} )}} \\right) \\\\\n",
    "&= d(f_\\phi(\\mathbf{x}), \\mathbf{c}_k) + \\log{\\left({\\sum_{l \\in \\mathcal{L}}\\exp{(-d(f_\\phi(\\mathbf{x})), \\mathbf{c}_{l} )}} \\right)}\n",
    "\\end{align*} \n",
    "$$\n",
    "\n",
    "which is simply the _negative log-softmax_ where the logits are the distances between the point $\\mathbf{x}$ and the class prototypes $\\mathbf{c}_l$ in the embedding space learned by the network, $\\phi$ represents the network parameters and $\\mathcal{L}$ represents the set of unique labels in the dateset."
   ]
  },
  {
   "cell_type": "markdown",
   "metadata": {},
   "source": [
    "````{prf:remark} Squared Euclidean distance is a Bregman divergence\n",
    ":class: dropdown\n",
    "\n",
    "As stated in the paper a regular Bregman divergence {cite:p}`banerjee2005clustering` is any distance function $d(\\vec{z}, \\vec{z}')$ that can be written as\n",
    "\n",
    "$$\n",
    "d(\\vec{z}, \\vec{z}') = \\varphi(\\vec{z}) - \\varphi(\\vec{z}') - (\\vec{z}-\\vec{z}')^T \\nabla \\varphi(\\vec{z}')\n",
    "$$\n",
    "\n",
    "where $\\varphi(\\cdot)$ is a differentiable, strictly convex function of the Legendre type.\n",
    "\n",
    "We can rigorously prove the squared Euclidean distance satisfies this as follows.\n",
    "\n",
    "The squared Euclidean distance of two vectors $\\vec{x}, \\vec{y} \\in \\mathbb{R}^N$ is given by\n",
    "\n",
    "$$\n",
    "\\begin{align}\n",
    "||\\vec{x}-\\vec{y}||^2 &= \\left(\\sqrt{ (x_1-y_1)^2 + (x_2-y_2)^2 + \\dots + (x_N-y_N)^2 }\\right)^2  \\\\\n",
    "&= (x_1-y_1)^2 + (x_2-y_2)^2 + \\dots + (x_N-y_N)^2 \\\\\n",
    "&= (x_1^2-2x_1y_1 + y_1^2) + (x_2^2-2x_2y_2 + y_2^2) + \\dots +  (x_N^2-2x_Ny_N + y_N^2) \\\\\n",
    "\\end{align}\n",
    "$$\n",
    "\n",
    "Letting $\\varphi(\\vec{y})=\\sum_{i=1}^{N}y_i^2$, which is clearly differentiable and strictly convex as it is the sum of strictly convex differentiable functions, we have \n",
    "\n",
    "$$\n",
    "\\nabla\\varphi(\\vec{y})=[2y_1,...,2y_N]\n",
    "$$ \n",
    "\n",
    "and of course \n",
    "\n",
    "$$\n",
    "(\\vec{x}-\\vec{y})=[x_1-y_1,...,x_N-y_N].\n",
    "$$\n",
    "\n",
    "Plugging all of this into Eq. 3 from the paper we have\n",
    "\n",
    "$$\n",
    "\\begin{align}\n",
    "d_\\varphi(\\vec{x}, \\vec{y}) &= \\varphi(\\vec{x})-\\varphi(\\vec{y})-(\\vec{x}-\\vec{y})^T\\nabla\\varphi(\\vec{y}) \\\\\n",
    "&= \\sum_{i=1}^{N}x_i^2 - \\sum_{i=1}^{N}y_i^2 - [x_1-y_1,...,x_N-y_N]^T[2y_1,...,2y_N]\\\\\n",
    "&= \\sum_{i=1}^{N}x_i^2 - \\sum_{i=1}^{N}y_i^2 - \\sum_{i=1}^{N} (2x_iy_i - 2y_i^2) \\\\\n",
    "&= \\sum_{i=1}^{N}x_i^2 - \\sum_{i=1}^{N}y_i^2 - \\sum_{i=1}^{N} 2x_iy_i + \\sum_{i=1}^{N} 2y_i^2 \\\\\n",
    "&= \\sum_{i=1}^{N}x_i^2 + \\sum_{i=1}^{N}y_i^2 - \\sum_{i=1}^{N} 2x_iy_i \\\\\n",
    "&= (x_1^2-2x_1y_1 + y_1^2) + (x_2^2-2x_2y_2 + y_2^2) + \\dots +  (x_N^2-2x_Ny_N + y_N^2) \\\\ \n",
    "&= ||\\vec{x}-\\vec{y}||^2 \\quad \\blacksquare\n",
    "\\end{align}\n",
    "\n",
    "$$\n",
    "\n",
    "We have thus proven that the squared Euclidean distance is in fact a regular Bregman divergence.\n",
    "````"
   ]
  },
  {
   "cell_type": "code",
   "execution_count": 2,
   "metadata": {
    "tags": [
     "hide-input"
    ]
   },
   "outputs": [],
   "source": [
    "import random\n",
    "\n",
    "import torch\n",
    "from torchvision import datasets, transforms\n",
    "from torch import nn, optim, Tensor\n",
    "import matplotlib.pyplot as plt\n",
    "\n",
    "random.seed(42)  # set random seeds for reproducibility\n",
    "torch.manual_seed(42)\n",
    "torch.cuda.manual_seed(42)"
   ]
  },
  {
   "cell_type": "markdown",
   "metadata": {},
   "source": [
    "## MNIST dataset"
   ]
  },
  {
   "cell_type": "code",
   "execution_count": 15,
   "metadata": {},
   "outputs": [
    {
     "name": "stdout",
     "output_type": "stream",
     "text": [
      "Labels in dataset: [0, 1, 2, 3, 4, 5, 6, 7, 8, 9]. \n",
      "Size of dataset: 50000\n",
      "Shape of image is (32, 32)\n"
     ]
    },
    {
     "data": {
      "image/png": "[encoded data removed]",
      "text/plain": [
       "<Figure size 640x480 with 1 Axes>"
      ]
     },
     "metadata": {},
     "output_type": "display_data"
    }
   ],
   "source": [
    "dataset = datasets.CIFAR10(\n",
    "    root=\"../../../datasets/\",\n",
    "    download=True,\n",
    "    train=True,\n",
    ")\n",
    "\n",
    "# convert labels to tensor in case it is a list\n",
    "dataset.targets = torch.tensor(dataset.targets) \n",
    "\n",
    "unique_labels = torch.unique(dataset.targets).tolist()\n",
    "print(f\"Labels in dataset: {unique_labels}. \\nSize of dataset: {len(dataset)}\")\n",
    "\n",
    "dataset_size = 200\n",
    "\n",
    "# randomly sample `dataset_size` indices\n",
    "sampled_indices = torch.randperm(len(dataset)).tolist()[:dataset_size]\n",
    "\n",
    "dataset.data = dataset.data[sampled_indices]\n",
    "dataset.targets = dataset.targets[sampled_indices]\n",
    "\n",
    "\n",
    "class_7_idx = dataset.targets == 0\n",
    "dataset_7 = dataset\n",
    "dataset_7.data = dataset_7.data[class_7_idx]\n",
    "dataset_7.targets = dataset_7.targets[class_7_idx]\n",
    "\n",
    "print(f\"Shape of image is {dataset_7[0][0].size}\")\n",
    "plt.title(\"First image in filtered dataset\")\n",
    "plt.imshow(dataset_7[0][0]);  # add ';' to suppress object output for matplotlib "
   ]
  },
  {
   "cell_type": "markdown",
   "metadata": {},
   "source": [
    "## Implementation"
   ]
  },
  {
   "cell_type": "markdown",
   "metadata": {},
   "source": [
    "### Prototypical network"
   ]
  },
  {
   "cell_type": "code",
   "execution_count": null,
   "metadata": {},
   "outputs": [],
   "source": [
    "def convolutional_block(in_channels: int, out_channels: int) -> nn.Module:\n",
    "    \"\"\"\n",
    "    Returns a block conv-bn-relu-maxpool layer a described in the paper.\n",
    "    Args:\n",
    "        in_channels: the number of input channels to the conv layer\n",
    "        out_channels: the number of output channels from the conv layer\n",
    "    \"\"\"\n",
    "\n",
    "    return nn.Sequential(\n",
    "        # in the paper 64 out_channels (feature maps) were used with a kernel of size 3x3\n",
    "        nn.Conv2d(in_channels, out_channels, kernel_size=3, padding=1),\n",
    "        nn.BatchNorm2d(out_channels),\n",
    "        nn.ReLU(),\n",
    "        # in the paper a 2x2 max pooling layer was used\n",
    "        nn.MaxPool2d(2),\n",
    "    )\n",
    "\n",
    "\n",
    "class PrototypicalNetwork(nn.Module):\n",
    "    def __init__(self, input_dim: int, hidden_dim: int, output_dim: int):\n",
    "        super().__init__()\n",
    "\n",
    "        self.encoder = nn.Sequential(\n",
    "            convolutional_block(input_dim, hidden_dim),\n",
    "            convolutional_block(hidden_dim, hidden_dim),\n",
    "            convolutional_block(hidden_dim, hidden_dim),\n",
    "            convolutional_block(hidden_dim, output_dim),\n",
    "        )\n",
    "\n",
    "    def forward(self, input: Tensor) -> Tensor:\n",
    "        output = self.encoder(input)\n",
    "        output = output.view(output.shape[0], -1)  # flatten last conv layer output\n",
    "        return output"
   ]
  },
  {
   "cell_type": "markdown",
   "metadata": {},
   "source": [
    "```{warning}\n",
    ":class: dropdown\n",
    "If using Algorithm 1 to implement the loss computation for an episode note that both the \n",
    "preprint and the published version of the prototypical networks paper appear to have a typo. \n",
    "In Algorithm 1 the prototypes are computed as \n",
    "\n",
    "$$\n",
    "\\mathbf{c}_k \\leftarrow \\frac{1}{N_C} \\sum_{(\\mathbf{x}_i,y_i)\\in S_k} f_\\phi(\\mathbf{x}_i)\n",
    "$$\n",
    "\n",
    "which appears to directly contradict Equation 1 in the paper which divides the sum by the cardinality of the support set (which is correct).\n",
    "\n",
    "Also not that, likely for clarity, the authors expressed the negative log-softmax loss slightly differently in Algorithm 1 than in Equation 2 using the $\\log$ property \n",
    "\n",
    "$$\n",
    "\\log(\\frac{a}{b}) = \\log{(a)} - \\log{(b)}\n",
    "$$\n",
    "```"
   ]
  },
  {
   "cell_type": "markdown",
   "metadata": {},
   "source": [
    "### Trainer"
   ]
  },
  {
   "cell_type": "code",
   "execution_count": 13,
   "metadata": {},
   "outputs": [],
   "source": [
    "class PrototypicalNetworkTrainer:\n",
    "    def __init__(\n",
    "        self,\n",
    "        model: nn.Module,\n",
    "        device: str,\n",
    "        learning_rate: float,\n",
    "        distance_func: callable,\n",
    "    ):\n",
    "        self.model = model\n",
    "\n",
    "        # handle case where device is selected is cuda but no gpu is available\n",
    "        if torch.cuda.is_available() and device == \"cuda\":\n",
    "            self.device = device\n",
    "        else:\n",
    "            self.device = \"cpu\"\n",
    "\n",
    "        self.model.to(self.device)\n",
    "        self.learning_rate = learning_rate\n",
    "        self.optimizer = optim.Adam(model.parameters(), lr=learning_rate)\n",
    "        self.distance_func = distance_func\n",
    "\n",
    "    def compute_loss(\n",
    "        self,\n",
    "        query_sets: dict[int, Tensor],\n",
    "        prototypes: dict[int, Tensor],\n",
    "        num_labels: int,\n",
    "        n_query_points: int,\n",
    "        V: list[int]\n",
    "    ) -> Tensor:\n",
    "        \"\"\"\n",
    "        Computes the loss for prototypical network training which\n",
    "        is the log softmax where the logits are the negative distances\n",
    "        of the query point to all `num_labels` class prototypes\n",
    "        Args:\n",
    "        \n",
    "        Returns:\n",
    "        \n",
    "        \"\"\"\n",
    "        loss = 0\n",
    "        for k in V:\n",
    "            for query_point in query_sets[k]:\n",
    "                # add batch dimension\n",
    "                input = torch.unsqueeze(query_point, dim=0)\n",
    "                # compute f_\\phi(x)\n",
    "                embedded_point = self.model(input)\n",
    "\n",
    "                # compute second term in loss equation\n",
    "                for label in V:\n",
    "                    distance = self.distance_func(embedded_point, prototypes[label])\n",
    "                    loss += torch.exp(-distance)\n",
    "\n",
    "                loss = torch.log(loss)\n",
    "\n",
    "                # compute first term in loss equation\n",
    "                loss += self.distance_func(embedded_point, prototypes[k])\n",
    "\n",
    "                loss /= (num_labels * n_query_points)\n",
    "        return loss\n",
    "\n",
    "    def train(\n",
    "        self,\n",
    "        dataset: datasets.VisionDataset,\n",
    "        num_labels: int,\n",
    "        n_support_points: int,\n",
    "        n_query_points: int,\n",
    "        num_episodes: int,\n",
    "    ) -> list[float]:\n",
    "        \"\"\"\n",
    "        Args:\n",
    "            model:\n",
    "            dataset: The training set, \\mathcal{D} in the paper\n",
    "            num_labels: N_C in the paper\n",
    "            n_support_points: N_S in the paper\n",
    "            n_query_points: N_Q in the paper\n",
    "            num_episodes: the number of episodes to train for\n",
    "        \n",
    "        Returns:\n",
    "            a list of the losses per episode\n",
    "        \"\"\"\n",
    "\n",
    "        print(f\"Training device: {self.device}\")\n",
    "        self.model.train()\n",
    "\n",
    "        # move data to proper device and cast to float and normalize\n",
    "        dataset.data = dataset.data.float() / 255\n",
    "        dataset.data = dataset.data.to(self.device)\n",
    "        dataset.targets = dataset.targets.to(self.device)\n",
    "\n",
    "        losses = []\n",
    "\n",
    "        if len(dataset.data.shape) < 4:\n",
    "            # add color channel dimension after batch dimension if there isn't one (MNIST)\n",
    "            # assuming dimension 0 is a batch dimension\n",
    "            dataset.data = torch.unsqueeze(dataset.data, dim=1)\n",
    "\n",
    "        unique_labels = torch.unique(dataset.targets).tolist()\n",
    "\n",
    "        for episode in range(num_episodes):\n",
    "            V = random.sample(unique_labels, num_labels)\n",
    "\n",
    "            query_sets = {}\n",
    "            prototypes = {}  # prototypes shape will be 'num classes' x 'embedding dimension'\n",
    "            for k in V:\n",
    "                class_indices = dataset.targets == k\n",
    "                labeled_k = dataset.data[class_indices]\n",
    "                all_indices = torch.randperm(len(labeled_k)).tolist()\n",
    "\n",
    "                # randomly sample N_S support examples\n",
    "                support_indices = all_indices[:n_support_points]\n",
    "                support_set = labeled_k[support_indices]\n",
    "\n",
    "                # randomly sample N_Q support examples from set D_{V_k}\\S_k (i.e. support examples removed)\n",
    "                remaining_indices = torch.randperm(\n",
    "                    len(labeled_k[n_support_points:])\n",
    "                ).tolist()\n",
    "\n",
    "                query_indices = remaining_indices[:n_query_points]\n",
    "\n",
    "                query_sets[k] = labeled_k[query_indices]\n",
    "\n",
    "                prototypes[k] = torch.sum(self.model(support_set), dim=0)\n",
    "                prototypes[k] /= n_support_points\n",
    "\n",
    "            self.optimizer.zero_grad()\n",
    "            loss = self.compute_loss(query_sets, prototypes, num_labels, n_query_points, V)\n",
    "\n",
    "            loss.backward()\n",
    "            self.optimizer.step()\n",
    "\n",
    "            losses.append(loss.item())\n",
    "\n",
    "        return losses\n",
    "\n",
    "\n",
    "def squared_euclidean_distance(x: Tensor, y: Tensor) -> float:\n",
    "    \"\"\"\n",
    "    Computes the squared Euclidean distance between two tensors\n",
    "    Args:\n",
    "        x: a tensor of size (N,)\n",
    "        y: a tensor of size (N,)\n",
    "    Returns:\n",
    "        The squared Euclidean distance between the two tensors\n",
    "    \"\"\"\n",
    "    return torch.linalg.norm(x - y) ** 2\n"
   ]
  },
  {
   "cell_type": "markdown",
   "metadata": {},
   "source": [
    "### Training"
   ]
  },
  {
   "cell_type": "code",
   "execution_count": null,
   "metadata": {},
   "outputs": [
    {
     "name": "stdout",
     "output_type": "stream",
     "text": [
      "Training device: cuda\n"
     ]
    }
   ],
   "source": [
    "model = PrototypicalNetwork(input_dim=1, hidden_dim=64, output_dim=64)\n",
    "\n",
    "trainer = PrototypicalNetworkTrainer(\n",
    "    model=model,\n",
    "    device=\"cuda\",\n",
    "    learning_rate=1e-3,\n",
    "    distance_func=squared_euclidean_distance,\n",
    ")\n",
    "\n",
    "mnist_dataset = datasets.MNIST(\n",
    "    root=\"../../../datasets/\",\n",
    "    download=True,\n",
    "    train=True,\n",
    "    transform=transforms.RandomRotation((0, 360)),\n",
    ")\n"
   ]
  },
  {
   "cell_type": "code",
   "execution_count": null,
   "metadata": {},
   "outputs": [],
   "source": [
    "losses = trainer.train(\n",
    "    mnist_dataset,\n",
    "    num_labels=4,\n",
    "    n_support_points=15,\n",
    "    n_query_points=15,\n",
    "    num_episodes=50,\n",
    ")"
   ]
  },
  {
   "cell_type": "code",
   "execution_count": 19,
   "metadata": {},
   "outputs": [
    {
     "data": {
      "text/plain": [
       "[<matplotlib.lines.Line2D at 0x7fbe46ab4f10>]"
      ]
     },
     "execution_count": 19,
     "metadata": {},
     "output_type": "execute_result"
    },
    {
     "data": {
      "image/png": "[encoded data removed]",
      "text/plain": [
       "<Figure size 640x480 with 1 Axes>"
      ]
     },
     "metadata": {},
     "output_type": "display_data"
    }
   ],
   "source": [
    "plt.xlabel(\"Episode number\")\n",
    "plt.ylabel(\"Loss\")\n",
    "plt.plot(losses)"
   ]
  },
  {
   "cell_type": "code",
   "execution_count": 37,
   "metadata": {},
   "outputs": [
    {
     "name": "stdout",
     "output_type": "stream",
     "text": [
      "Last updated: Mon Mar 24 2025\n",
      "\n",
      "Python implementation: CPython\n",
      "Python version       : 3.10.12\n",
      "IPython version      : 8.22.2\n",
      "\n",
      "torchvision: 0.21.0\n",
      "matplotlib : 3.7.4\n",
      "torch      : 2.6.0\n",
      "\n"
     ]
    }
   ],
   "source": [
    "%load_ext watermark\n",
    "%watermark -n -u -v -iv"
   ]
  }
 ],
 "metadata": {
  "kernelspec": {
   "display_name": "Python 3",
   "language": "python",
   "name": "python3"
  },
  "language_info": {
   "codemirror_mode": {
    "name": "ipython",
    "version": 3
   },
   "file_extension": ".py",
   "mimetype": "text/x-python",
   "name": "python",
   "nbconvert_exporter": "python",
   "pygments_lexer": "ipython3",
   "version": "3.10.12"
  }
 },
 "nbformat": 4,
 "nbformat_minor": 2
}
