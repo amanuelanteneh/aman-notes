{
 "cells": [
  {
   "cell_type": "markdown",
   "metadata": {},
   "source": [
    "# Prototypical neural networks"
   ]
  },
  {
   "cell_type": "markdown",
   "metadata": {},
   "source": [
    "Prototypical networks are a type of neural network proposed for the task of few-shot learning i.e. the task of learning to classify examples from classes not seen during training after being given only a few examples of the new classes."
   ]
  },
  {
   "cell_type": "markdown",
   "metadata": {},
   "source": [
    "````{prf:observation} Squared Euclidean distance is a regular Bregman divergence\n",
    ":class: dropdown\n",
    "\n",
    "As stated in the paper a regular Bregman divergence is any distance function $d(\\vec{z}, \\vec{z}')$ that can be written as\n",
    "\n",
    "$$\n",
    "d(\\vec{z}, \\vec{z}') = \\varphi(\\vec{z}) - \\varphi(\\vec{z}') - (\\vec{z}-\\vec{z}')^T \\nabla \\varphi(\\vec{z}')\n",
    "$$\n",
    "\n",
    "where $\\varphi(\\cdot)$ is a differentiable, strictly convex function of the Legendre type.\n",
    "\n",
    "The squared Euclidean distance of two vectors $\\vec{x}, \\vec{y} \\in \\mathbb{R}^N$ is given by\n",
    "\n",
    "$$\n",
    "\\begin{align}\n",
    "||\\vec{x}-\\vec{y}||^2 &= \\left(\\sqrt{ (x_1-y_1)^2 + (x_2-y_2)^2 + \\dots + (x_N-y_N)^2 }\\right)^2  \\\\\n",
    "&= (x_1-y_1)^2 + (x_2-y_2)^2 + \\dots + (x_N-y_N)^2 \\\\\n",
    "&= (x_1^2-2x_1y_1 + y_1^2) + (x_2^2-2x_2y_2 + y_2^2) + \\dots +  (x_N^2-2x_Ny_N + y_N^2) \\\\\n",
    "\\end{align}\n",
    "$$\n",
    "\n",
    "Letting $\\varphi(\\vec{y})=\\sum_{i=1}^{N}y_i^2$, which is clearly differentiable and strictly convex as it is the sum of strictly convex differentiable functions, we have \n",
    "\n",
    "$$\n",
    "\\nabla\\varphi(\\vec{y})=[2y_1,...,2y_N].\n",
    "$$ \n",
    "\n",
    "And of course \n",
    "\n",
    "$$\n",
    "(\\vec{x}-\\vec{y})=[x_1-y_1,...,x_N-y_N]\n",
    "$$\n",
    "\n",
    "Plugging all of this into Eq. 3 from the paper we have\n",
    "\n",
    "$$\n",
    "\\begin{align}\n",
    "d_\\varphi(\\vec{x}, \\vec{y}) &= \\varphi(\\vec{x})-\\varphi(\\vec{y})-(\\vec{x}-\\vec{y})^T\\nabla\\varphi(\\vec{y}) \\\\\n",
    "&= \\sum_{i=1}^{N}x_i^2 - \\sum_{i=1}^{N}y_i^2 - [x_1-y_1,...,x_N-y_N]^T[2y_1,...,2y_N]\\\\\n",
    "&= \\sum_{i=1}^{N}x_i^2 - \\sum_{i=1}^{N}y_i^2 - \\sum_{i=1}^{N} (2x_iy_i - 2y_i^2) \\\\\n",
    "&= \\sum_{i=1}^{N}x_i^2 - \\sum_{i=1}^{N}y_i^2 - \\sum_{i=1}^{N} 2x_iy_i + \\sum_{i=1}^{N} 2y_i^2 \\\\\n",
    "&= \\sum_{i=1}^{N}x_i^2 + \\sum_{i=1}^{N}y_i^2 - \\sum_{i=1}^{N} 2x_iy_i \\\\\n",
    "&= (x_1^2-2x_1y_1 + y_1^2) + (x_2^2-2x_2y_2 + y_2^2) + \\dots +  (x_N^2-2x_Ny_N + y_N^2) \\\\ \n",
    "&= ||\\vec{x}-\\vec{y}||^2 \\quad \\blacksquare\n",
    "\\end{align}\n",
    "\n",
    "$$\n",
    "\n",
    "We have thus proven that the squared Euclidean distance is in fact a regular Bregman divergence.\n",
    "````"
   ]
  },
  {
   "cell_type": "code",
   "execution_count": 70,
   "metadata": {},
   "outputs": [],
   "source": [
    "import random\n",
    "from math import log, exp\n",
    "\n",
    "import torch\n",
    "import torch.nn.functional as F\n",
    "from torchvision import datasets, transforms\n",
    "from torch import nn, optim, Tensor\n",
    "from torch.utils.data import Dataset\n",
    "import matplotlib.pyplot as plt"
   ]
  },
  {
   "cell_type": "code",
   "execution_count": 3,
   "metadata": {},
   "outputs": [
    {
     "name": "stdout",
     "output_type": "stream",
     "text": [
      "Labels in dataset: [0, 1, 2, 3, 4, 5, 6, 7, 8, 9]\n",
      "[1, 8, 7, 3]\n"
     ]
    },
    {
     "data": {
      "text/plain": [
       "torchvision.datasets.mnist.MNIST"
      ]
     },
     "execution_count": 3,
     "metadata": {},
     "output_type": "execute_result"
    }
   ],
   "source": [
    "mnist = datasets.MNIST(\n",
    "    root=\"../../../datasets/\",\n",
    "    download=True,\n",
    "    train=True,\n",
    "    transform=transforms.RandomRotation((0, 360)),\n",
    ")\n",
    "unique_labels = torch.unique(mnist.targets).tolist()\n",
    "print(f\"Labels in dataset: {unique_labels}\")\n",
    "\n",
    "V = random.sample(unique_labels, 4)\n",
    "print(V)\n",
    "# print(mnist)\n",
    "type(mnist)"
   ]
  },
  {
   "cell_type": "code",
   "execution_count": 4,
   "metadata": {},
   "outputs": [
    {
     "name": "stdout",
     "output_type": "stream",
     "text": [
      "Shape of image is (28, 28)\n"
     ]
    },
    {
     "data": {
      "text/plain": [
       "<matplotlib.image.AxesImage at 0x7f62650974c0>"
      ]
     },
     "execution_count": 4,
     "metadata": {},
     "output_type": "execute_result"
    },
    {
     "data": {
      "image/png": "[encoded data removed]",
      "text/plain": [
       "<Figure size 640x480 with 1 Axes>"
      ]
     },
     "metadata": {},
     "output_type": "display_data"
    }
   ],
   "source": [
    "class_7_idx = mnist.targets == 1\n",
    "dataset_7 = mnist\n",
    "dataset_7.data = dataset_7.data[class_7_idx]\n",
    "dataset_7.targets = dataset_7.targets[class_7_idx]\n",
    "\n",
    "print(f\"Shape of image is {dataset_7[0][0].size}\")\n",
    "plt.imshow(dataset_7[0][0], cmap=\"gray\", vmin=0, vmax=255)"
   ]
  },
  {
   "cell_type": "code",
   "execution_count": 5,
   "metadata": {},
   "outputs": [],
   "source": [
    "class PrototypicalNetworkDataset(Dataset):\n",
    "    \"\"\" \"\"\"\n",
    "\n",
    "    def __init__(self, dataset, transform=None):\n",
    "        \"\"\"\n",
    "        Args:\n",
    "\n",
    "        \"\"\"\n",
    "        self.dataset = dataset\n",
    "\n",
    "    def __len__(self) -> int:\n",
    "        return len(self.dataset)\n",
    "\n",
    "    def __getitem__(self, idx: int) -> tuple[Tensor, int]:\n",
    "        return self.dataset[idx]\n",
    "\n",
    "    def get_class(label: int):\n",
    "        pass"
   ]
  },
  {
   "cell_type": "code",
   "execution_count": 159,
   "metadata": {},
   "outputs": [],
   "source": [
    "def convolutional_block(in_channels: int, out_channels: int = 64) -> nn.Module:\n",
    "    \"\"\"\n",
    "    Returns a block conv-bn-relu-maxpool layer a described in the paper.\n",
    "    \"\"\"\n",
    "\n",
    "    return nn.Sequential(\n",
    "        # in the paper 64 out_channels (feature maps) were used with a kernel of size 3x3\n",
    "        nn.Conv2d(in_channels, out_channels, kernel_size=3, padding=1),\n",
    "        nn.BatchNorm2d(out_channels),\n",
    "        nn.ReLU(),\n",
    "        # in the paper a 2x2 max pooling layer was used\n",
    "        nn.MaxPool2d(2),\n",
    "    )\n",
    "\n",
    "\n",
    "class PrototypicalNetwork(nn.Module):\n",
    "    def __init__(self, input_dim: int, hidden_dim: int, output_dim: int):\n",
    "        super().__init__()\n",
    "\n",
    "        self.encoder = nn.Sequential(\n",
    "            convolutional_block(input_dim, hidden_dim),\n",
    "            convolutional_block(hidden_dim, hidden_dim),\n",
    "            convolutional_block(hidden_dim, hidden_dim),\n",
    "            convolutional_block(hidden_dim, output_dim),\n",
    "        )\n",
    "\n",
    "    def forward(self, input: Tensor) -> Tensor:\n",
    "        output = self.encoder(input)\n",
    "        output = output.view(output.shape[0], -1)  # flatten last conv layer output\n",
    "        # output = F.normalize(output, dim=0)  # make unit length\n",
    "        return output"
   ]
  },
  {
   "cell_type": "code",
   "execution_count": 184,
   "metadata": {},
   "outputs": [],
   "source": [
    "class PrototypicalNetworkTrainer:\n",
    "    def __init__(self, model: nn.Module, device: str, learning_rate: float):\n",
    "        self.model = model\n",
    "\n",
    "        # handle case where device is given as cuda but no gpu is available\n",
    "        if torch.cuda.is_available() and device == \"cuda\":\n",
    "            self.device = device\n",
    "        else:\n",
    "            self.device = \"cpu\"\n",
    "\n",
    "        self.model.to(self.device)\n",
    "        self.learning_rate = learning_rate\n",
    "        self.optimizer = optim.Adam(model.parameters(), lr=learning_rate)\n",
    "\n",
    "    def train(\n",
    "        self,\n",
    "        dataset: datasets.VisionDataset,\n",
    "        num_labels: int,\n",
    "        n_support_points: int,\n",
    "        n_query_points: int,\n",
    "        num_episodes: int,\n",
    "        distance_func: callable,\n",
    "    ) -> list[float]:\n",
    "        \"\"\"\n",
    "        Args:\n",
    "            model:\n",
    "            dataset: The training set, \\mathcal{D} in the paper\n",
    "            num_labels: N_C in the paper\n",
    "            n_support_points: N_S in the paper\n",
    "            n_query_points: N_Q in the paper\n",
    "\n",
    "        \"\"\"\n",
    "        print(f\"Training on {self.device}\")\n",
    "        self.model.train()\n",
    "\n",
    "        # move data to proper device and cast to float and normalize\n",
    "        dataset.data = dataset.data.float() / 255\n",
    "        dataset.data = dataset.data.to(self.device)\n",
    "        dataset.targets = dataset.targets.to(self.device)\n",
    "\n",
    "        losses = []\n",
    "\n",
    "        if len(dataset.data.shape) < 4:\n",
    "            # add color channel dimension after batch dimension if there isn't one (MNIST)\n",
    "            # assuming dimension 0 is a batch dimension\n",
    "            dataset.data = torch.unsqueeze(dataset.data, dim=1)\n",
    "\n",
    "        unique_labels = torch.unique(dataset.targets).tolist()\n",
    "\n",
    "        for episode in range(num_episodes):\n",
    "            V = set(random.sample(unique_labels, num_labels))\n",
    "            #print(f\"V: {V}\")\n",
    "            query_sets = {}\n",
    "            prototypes = {}  # prototypes shape will be 'num classes' x 'embedding dimension'\n",
    "            for k in V:\n",
    "                class_indices = dataset.targets == k\n",
    "                labeled_k = dataset.data[class_indices]\n",
    "                all_indices = torch.randperm(len(labeled_k)).tolist()\n",
    "\n",
    "                # randomly sample N_S support examples\n",
    "                support_indices = all_indices[:n_support_points]\n",
    "                support_set = labeled_k[support_indices]\n",
    "                \n",
    "                # randomly sample N_Q support examples from set D_{V_k}\\S_k (i.e. support examples removed)\n",
    "                remaining_indices = torch.randperm(\n",
    "                    len(labeled_k[n_support_points:])\n",
    "                ).tolist()\n",
    "                \n",
    "                query_indices = remaining_indices[:n_query_points]\n",
    "\n",
    "                query_sets[k] = labeled_k[query_indices]\n",
    "                #print(f\"Model output: {self.model(support_set)}, model in: {support_set}\")\n",
    "                prototypes[k] = torch.sum(self.model(support_set), dim=0) / num_labels\n",
    "\n",
    "            #print(prototypes)\n",
    "            \n",
    "            loss = 0\n",
    "            self.optimizer.zero_grad()\n",
    "            # compute loss\n",
    "            for k in V:\n",
    "                for query_point in query_sets[k]:\n",
    "                    # add batch dimension\n",
    "                    input = torch.unsqueeze(query_point, dim=0)\n",
    "                    # compute f_\\phi(x)\n",
    "                    embedded_point = self.model(input)\n",
    "\n",
    "                    # compute second term in loss equation\n",
    "                    for label in V - {k}:\n",
    "                        distance = distance_func(embedded_point, prototypes[label])\n",
    "                        loss += torch.exp(-distance)\n",
    "                        #print(f\"Loss: {loss}, dist: {distance}, torch.exp(-distance): {torch.exp(-distance)}\")\n",
    "\n",
    "                    # print(loss, torch.log(loss))\n",
    "                    loss = torch.log(loss) \n",
    "\n",
    "                    # compute first term in loss equation\n",
    "                    loss += distance_func(embedded_point, prototypes[k])\n",
    "                    \n",
    "                    loss /= (num_labels * n_query_points)\n",
    "\n",
    "            # print(loss)\n",
    "            loss.backward()\n",
    "            self.optimizer.step()\n",
    "\n",
    "            losses.append(loss.item())\n",
    "\n",
    "        return losses\n",
    "\n",
    "\n",
    "def squared_euclidean_distance(x: Tensor, y: Tensor) -> float:\n",
    "    \"\"\"\n",
    "    Computes the squared Euclidean distance between two tensors\n",
    "    Args:\n",
    "\n",
    "    \"\"\"\n",
    "    # print(f\"x: {x}, y: {y}, dist: {torch.linalg.norm(x - y) ** 2}\")\n",
    "    return torch.linalg.norm(x - y) ** 2\n"
   ]
  },
  {
   "cell_type": "code",
   "execution_count": 188,
   "metadata": {},
   "outputs": [
    {
     "name": "stdout",
     "output_type": "stream",
     "text": [
      "Training on cuda\n"
     ]
    }
   ],
   "source": [
    "#torch.autograd.set_detect_anomaly(False)\n",
    "proto_net = PrototypicalNetwork(input_dim=1, hidden_dim=10, output_dim=10)\n",
    "\n",
    "trainer = PrototypicalNetworkTrainer(model=proto_net, device=\"cuda\", learning_rate=1e-3)\n",
    "mnist_dataset = datasets.MNIST(\n",
    "    root=\"../../../datasets/\",\n",
    "    download=True,\n",
    "    train=True,\n",
    "    transform=transforms.RandomRotation((0, 360)),\n",
    ")\n",
    "\n",
    "losses = trainer.train(\n",
    "    mnist_dataset,\n",
    "    num_labels=3,\n",
    "    n_support_points=40,\n",
    "    n_query_points=40,\n",
    "    distance_func=squared_euclidean_distance,\n",
    "    num_episodes=25,\n",
    ")"
   ]
  },
  {
   "cell_type": "code",
   "execution_count": 189,
   "metadata": {},
   "outputs": [
    {
     "name": "stdout",
     "output_type": "stream",
     "text": [
      "[nan, nan, nan, nan, nan, nan, nan, nan, nan, nan, nan, nan, nan, nan, nan, nan, nan, nan, nan, nan, nan, nan, nan, nan, nan]\n"
     ]
    },
    {
     "data": {
      "text/plain": [
       "[<matplotlib.lines.Line2D at 0x7f6225cb3430>]"
      ]
     },
     "execution_count": 189,
     "metadata": {},
     "output_type": "execute_result"
    },
    {
     "data": {
      "image/png": "[encoded data removed]",
      "text/plain": [
       "<Figure size 640x480 with 1 Axes>"
      ]
     },
     "metadata": {},
     "output_type": "display_data"
    }
   ],
   "source": [
    "print(losses)\n",
    "plt.plot(losses)"
   ]
  },
  {
   "cell_type": "code",
   "execution_count": 92,
   "metadata": {},
   "outputs": [
    {
     "name": "stdout",
     "output_type": "stream",
     "text": [
      "torch.Size([2, 1, 28, 28])\n",
      "tensor([[2.1225, 1.1971, 1.1154, 2.0568, 2.8133, 0.4410, 0.4114, 1.9713, 1.8435,\n",
      "         2.0968, 2.3575, 0.0000, 0.4364, 2.0440, 1.2436, 1.1771, 0.6439, 1.5712,\n",
      "         1.2506, 0.4386, 1.5798, 0.8009, 0.2398, 1.4384, 2.0191, 0.9568, 0.9522,\n",
      "         1.2425, 1.1792, 1.3234, 0.9201, 1.0581, 1.2211, 1.2917, 0.6133, 1.7050,\n",
      "         0.3106, 1.7267, 0.0000, 1.0991, 0.2014, 0.4599, 2.5401, 0.2838, 0.7676,\n",
      "         1.1801, 0.9220, 0.5333, 0.2128, 1.6909, 1.0757, 1.5004, 0.1997, 1.2165,\n",
      "         0.8781, 1.9353, 0.0000, 1.2759, 1.3417, 1.1515, 1.9404, 1.4010, 1.6919,\n",
      "         0.6888],\n",
      "        [1.6496, 1.3029, 0.7220, 1.9881, 0.9141, 2.0283, 0.7897, 0.0000, 1.2104,\n",
      "         1.3953, 0.7287, 0.5174, 0.7362, 1.2449, 0.0000, 1.0943, 1.2887, 0.9551,\n",
      "         1.6281, 1.8036, 1.2118, 0.6751, 0.6860, 1.0865, 1.3422, 1.5551, 0.0106,\n",
      "         1.8730, 1.7397, 0.8303, 0.2802, 1.5726, 1.7531, 2.3242, 0.3069, 1.6945,\n",
      "         0.4262, 0.7665, 0.8658, 1.2030, 0.0000, 2.9025, 1.9112, 2.7445, 2.1236,\n",
      "         1.4336, 0.9521, 1.2212, 0.0000, 1.7276, 0.0757, 1.7254, 0.7232, 1.7305,\n",
      "         1.1007, 0.6440, 0.0000, 0.6215, 0.7298, 2.0683, 2.5926, 0.0000, 1.8830,\n",
      "         1.4034]], grad_fn=<ViewBackward0>)\n"
     ]
    }
   ],
   "source": [
    "test_input = torch.rand((2, 1, 28, 28))\n",
    "print(test_input.shape)\n",
    "proto_net = PrototypicalNetwork(input_dim=1, hidden_dim=64, output_dim=64)\n",
    "\n",
    "out = proto_net(test_input)\n",
    "\n",
    "print(out)\n",
    "\n",
    "# print(out[0].view(64, -1).shape)\n"
   ]
  },
  {
   "cell_type": "code",
   "execution_count": null,
   "metadata": {},
   "outputs": [
    {
     "name": "stdout",
     "output_type": "stream",
     "text": [
      "Last updated: Sun Mar 23 2025\n",
      "\n",
      "Python implementation: CPython\n",
      "Python version       : 3.10.12\n",
      "IPython version      : 8.22.2\n",
      "\n",
      "matplotlib : 3.7.4\n",
      "torchvision: 0.21.0\n",
      "torch      : 2.6.0\n",
      "optuna     : 4.2.1\n",
      "\n"
     ]
    }
   ],
   "source": [
    "%load_ext watermark\n",
    "%watermark -n -u -v -iv"
   ]
  }
 ],
 "metadata": {
  "kernelspec": {
   "display_name": "Python 3",
   "language": "python",
   "name": "python3"
  },
  "language_info": {
   "codemirror_mode": {
    "name": "ipython",
    "version": 3
   },
   "file_extension": ".py",
   "mimetype": "text/x-python",
   "name": "python",
   "nbconvert_exporter": "python",
   "pygments_lexer": "ipython3",
   "version": "3.10.12"
  }
 },
 "nbformat": 4,
 "nbformat_minor": 2
}
