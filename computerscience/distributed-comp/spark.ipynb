{
 "cells": [
  {
   "cell_type": "code",
   "execution_count": 1,
   "metadata": {
    "tags": [
     "hide-input"
    ]
   },
   "outputs": [],
   "source": [
    "from pyspark.sql import SparkSession\n",
    "from IPython.display import display"
   ]
  },
  {
   "cell_type": "markdown",
   "metadata": {},
   "source": [
    "# Apache Spark"
   ]
  },
  {
   "cell_type": "code",
   "execution_count": null,
   "metadata": {},
   "outputs": [],
   "source": [
    "spark = SparkSession.builder.appName(\"Intro_spark\").getOrCreate() \\\n",
    "        #.config(\"spark.driver.bindAddress\",\"localhost\") \\\n",
    "        #.config(\"spark.ui.port\",\"4050\") \\\n",
    "        \n",
    "\n",
    "# check if Adaptive Query Execution (AQE) is enabled\n",
    "print(spark.conf.get(\"spark.sql.adaptive.enabled\"))\n",
    "\n",
    "# df = spark.read.parquet(\"yellow_tripdata_2023-05.parquet\")\n",
    "# print(df.rdd.getNumPartitions())\n",
    "# df.count()\n",
    "# df.explain()\n",
    "# display(df.toPandas())"
   ]
  },
  {
   "cell_type": "code",
   "execution_count": 6,
   "metadata": {},
   "outputs": [
    {
     "name": "stdout",
     "output_type": "stream",
     "text": [
      "24 cores available\n"
     ]
    }
   ],
   "source": [
    "print(f\"{spark.sparkContext.defaultParallelism} cores available\")"
   ]
  },
  {
   "cell_type": "markdown",
   "metadata": {},
   "source": [
    "## Spark Basics"
   ]
  },
  {
   "cell_type": "markdown",
   "metadata": {},
   "source": [
    "### User Defined Functions (UDFs)"
   ]
  },
  {
   "cell_type": "markdown",
   "metadata": {},
   "source": [
    "#### Python UDF"
   ]
  },
  {
   "cell_type": "markdown",
   "metadata": {},
   "source": [
    "Generally the slowest kind of UDF as it applies the function to one row at a time."
   ]
  },
  {
   "cell_type": "markdown",
   "metadata": {},
   "source": [
    "### Pandas UDF"
   ]
  },
  {
   "cell_type": "markdown",
   "metadata": {},
   "source": [
    "Faster than Python UDFs as they apply the function to *batches* of rows (block retrieval) at a time and also because it leverages Apache Arrow for faster serialization (converting the transformed rows back into Java objects to pass back to the JVM)."
   ]
  },
  {
   "cell_type": "markdown",
   "metadata": {},
   "source": [
    "## Spark Architecture "
   ]
  },
  {
   "cell_type": "markdown",
   "metadata": {},
   "source": [
    "In Spark computations are broken into to two rough categories: transformations and actions."
   ]
  },
  {
   "cell_type": "markdown",
   "metadata": {},
   "source": [
    "### Transformations"
   ]
  },
  {
   "cell_type": "markdown",
   "metadata": {},
   "source": [
    "An important thing to note about transformations in Spark is that, generally, they are *lazy* operations; meaning they aren't accualy performed/computed until the resulting dataframe/result set is needed. Generally this means the transformation isn't applied until an *action* is specified. \n",
    "\n",
    "There are two types of transformations: narrow and wide transformations. The difference between the two is that *wide* transformations induce what is called a *shuffle* (also called an *exchange*). A shuffle is when a *repartitioning* of the dataset is required. Spark basically works by partitioning the dataset into subsets and having each worker perform the specified computation on a partition of the data. It's easy to think of transformations that would require a shuffle such as the `sort()` operation. Clearly this will require an exchange/shuffle since one needs to compare rows from different partitions to perform a sort. And example of a narrow transformation is the `filter()` transformation. Clearly there is no need to compare rows across partitions to accomplish this operation since we just need to check if a row fulfills the criteria in the filter clause to compute the result set.\n",
    "\n",
    "Shuffle vs memory partitions"
   ]
  },
  {
   "cell_type": "markdown",
   "metadata": {},
   "source": [
    "Hierarchy \n",
    "    Driver \n",
    "        ├── Workers\n",
    "                ├── Executors\n",
    "                           ├── Cores"
   ]
  },
  {
   "cell_type": "markdown",
   "metadata": {},
   "source": [
    "## Structured Streaming"
   ]
  },
  {
   "cell_type": "markdown",
   "metadata": {},
   "source": [
    "Structured streaming is near real-time streaming since the records are processed in microbatches."
   ]
  },
  {
   "cell_type": "markdown",
   "metadata": {},
   "source": [
    "### Streaming aggregations"
   ]
  },
  {
   "cell_type": "markdown",
   "metadata": {},
   "source": [
    "Streaming aggregation is used to mitigate out-of-memory errors"
   ]
  },
  {
   "cell_type": "markdown",
   "metadata": {},
   "source": [
    "## Practice questions"
   ]
  },
  {
   "cell_type": "markdown",
   "metadata": {},
   "source": [
    "These are practice exam questions from the March 2025 practice exam provided by Databricks for the 'Databricks Certified Associate Developer for Apache Spark 3.0 - Python' certification exam. The pdf of the exam is available in the `pdfs/` folder of this section in the JupyterBook."
   ]
  },
  {
   "cell_type": "markdown",
   "metadata": {},
   "source": [
    "### Question 1"
   ]
  }
 ],
 "metadata": {
  "kernelspec": {
   "display_name": "Python 3",
   "language": "python",
   "name": "python3"
  },
  "language_info": {
   "codemirror_mode": {
    "name": "ipython",
    "version": 3
   },
   "file_extension": ".py",
   "mimetype": "text/x-python",
   "name": "python",
   "nbconvert_exporter": "python",
   "pygments_lexer": "ipython3",
   "version": "3.10.12"
  }
 },
 "nbformat": 4,
 "nbformat_minor": 2
}
