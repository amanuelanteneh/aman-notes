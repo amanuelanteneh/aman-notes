{
 "cells": [
  {
   "cell_type": "markdown",
   "metadata": {},
   "source": [
    "# Lazy Evaluation\n",
    "\n",
    "In `Python` generators are a good example of lazy evaluation."
   ]
  },
  {
   "cell_type": "code",
   "execution_count": 6,
   "metadata": {},
   "outputs": [
    {
     "name": "stdout",
     "output_type": "stream",
     "text": [
      "1693045240 bytes\n",
      "1.69304524 gigabytes\n"
     ]
    }
   ],
   "source": [
    "import sys\n",
    "\n",
    "def first_n(n):\n",
    "    nums = []\n",
    "    for i in range(n):\n",
    "        nums.append(i)\n",
    "    return nums\n",
    "\n",
    "# all numbers are held in a list which is memory intensive\n",
    "all_numbers = first_n(200000000)\n",
    "sum_of_first_n = sum(all_numbers)\n",
    "\n",
    "# Uses 3.8Gb during processing and 1.9Gb to store variables\n",
    "# 13.9 seconds to process\n",
    "size_in_bytes = sys.getsizeof(all_numbers) \n",
    "print(f\"Array size is {size_in_bytes} bytes\")\n",
    "print(f\"Array size is {size_in_bytes / 10**9} gigabytes\")"
   ]
  }
 ],
 "metadata": {
  "kernelspec": {
   "display_name": "Python 3",
   "language": "python",
   "name": "python3"
  },
  "language_info": {
   "codemirror_mode": {
    "name": "ipython",
    "version": 3
   },
   "file_extension": ".py",
   "mimetype": "text/x-python",
   "name": "python",
   "nbconvert_exporter": "python",
   "pygments_lexer": "ipython3",
   "version": "3.10.12"
  }
 },
 "nbformat": 4,
 "nbformat_minor": 2
}
