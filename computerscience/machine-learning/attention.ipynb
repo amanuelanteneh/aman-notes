{
 "cells": [
  {
   "cell_type": "markdown",
   "metadata": {},
   "source": [
    "# Attention\n",
    "\n",
    "An attention mechanism is"
   ]
  },
  {
   "cell_type": "markdown",
   "metadata": {},
   "source": [
    "## Transformers"
   ]
  },
  {
   "cell_type": "markdown",
   "metadata": {},
   "source": [
    "The transformer architecture differs from previous aricutirces like recurrent neural networks since it can process a sequence _in parallel_ (by preserving token ordering via the use of positional embeddings) unlike recurrent architectures which must process a sequence _sequentially_ {cite:p}`vaswani2017attention`."
   ]
  }
 ],
 "metadata": {
  "language_info": {
   "name": "python"
  }
 },
 "nbformat": 4,
 "nbformat_minor": 2
}
