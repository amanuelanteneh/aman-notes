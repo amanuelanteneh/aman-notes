{
 "cells": [
  {
   "cell_type": "markdown",
   "id": "214f0bac",
   "metadata": {},
   "source": [
    "# Data preprocessing"
   ]
  },
  {
   "cell_type": "markdown",
   "id": "10940f1e",
   "metadata": {},
   "source": [
    "## Missing data"
   ]
  },
  {
   "cell_type": "markdown",
   "id": "a1215304",
   "metadata": {},
   "source": [
    "### Missing Completely at Random (MCAR)"
   ]
  },
  {
   "cell_type": "markdown",
   "id": "cf9c1fce",
   "metadata": {},
   "source": [
    "### Missing at Random (MAR)"
   ]
  },
  {
   "cell_type": "markdown",
   "id": "3ff36b71",
   "metadata": {},
   "source": [
    "### Missing Not At Random (MNAR)"
   ]
  },
  {
   "cell_type": "markdown",
   "id": "1afd1584",
   "metadata": {},
   "source": [
    "## One-hot encoding"
   ]
  }
 ],
 "metadata": {
  "language_info": {
   "name": "python"
  }
 },
 "nbformat": 4,
 "nbformat_minor": 5
}
