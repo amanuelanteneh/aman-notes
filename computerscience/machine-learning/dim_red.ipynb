{
 "cells": [
  {
   "cell_type": "code",
   "execution_count": null,
   "metadata": {
    "tags": [
     "hide-input"
    ]
   },
   "outputs": [],
   "source": [
    "from sklearn.decomposition import PCA\n",
    "from sklearn.manifold import Isomap, TSNE\n",
    "from transformers import AutoTokenizer, ModernBertModel\n",
    "from torchtext.datasets import MNLI\n",
    "from torchtext.data import Field, BucketIterator\n",
    "\n"
   ]
  },
  {
   "cell_type": "code",
   "execution_count": null,
   "metadata": {},
   "outputs": [],
   "source": [
    "modern_bert_model = ModernBertModel.from_pretrained(\"tasksource/ModernBERT-base-nli\")"
   ]
  },
  {
   "cell_type": "markdown",
   "metadata": {},
   "source": [
    "# Dimensionality reduction"
   ]
  },
  {
   "cell_type": "markdown",
   "metadata": {},
   "source": [
    "A significant amount of data available in the real world is of high dimensional nature. A common example of this is image data. Suppose one has an image dataset consisting of $500 \\times 500$ grayscale images. If we think of each image as a flattened vector than each image can be regarded as a point in a $250000$-dimensional space. Often it is intractable to perform learning in such a large space, due to the curse of dimensionality, which is why many machine learning methods focus on finding low-dimensional representations of the input data. For images an example of this are convolutional neural networks which progressively reduce the dimensionality of the input image as it pass through the model by method such as pooling layers."
   ]
  },
  {
   "cell_type": "markdown",
   "metadata": {},
   "source": [
    "## Linear dimensionality reduction methods"
   ]
  },
  {
   "cell_type": "markdown",
   "metadata": {},
   "source": [
    "### PCA"
   ]
  },
  {
   "cell_type": "markdown",
   "metadata": {},
   "source": [
    "## Nonlinear dimensionality reduction methods"
   ]
  },
  {
   "cell_type": "markdown",
   "metadata": {},
   "source": [
    "### Isometric feature mapping (Isomap)"
   ]
  },
  {
   "cell_type": "markdown",
   "metadata": {},
   "source": [
    "### t-SNE (t-distributed stochastic neighbor embedding)"
   ]
  }
 ],
 "metadata": {
  "kernelspec": {
   "display_name": "Python 3",
   "language": "python",
   "name": "python3"
  },
  "language_info": {
   "codemirror_mode": {
    "name": "ipython",
    "version": 3
   },
   "file_extension": ".py",
   "mimetype": "text/x-python",
   "name": "python",
   "nbconvert_exporter": "python",
   "pygments_lexer": "ipython3",
   "version": "3.10.12"
  }
 },
 "nbformat": 4,
 "nbformat_minor": 2
}
