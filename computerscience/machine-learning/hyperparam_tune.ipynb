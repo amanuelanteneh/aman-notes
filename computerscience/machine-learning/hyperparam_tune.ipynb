{
 "cells": [
  {
   "cell_type": "markdown",
   "id": "1bc64c96",
   "metadata": {},
   "source": [
    "# Hyperparameter tuning"
   ]
  },
  {
   "cell_type": "markdown",
   "id": "aac2e5b4",
   "metadata": {},
   "source": [
    "Hyperparameter tuning is an essential part of the machine learning model lifecycle. It refers to"
   ]
  },
  {
   "cell_type": "markdown",
   "id": "b6545290",
   "metadata": {},
   "source": [
    "## Grid search"
   ]
  },
  {
   "cell_type": "markdown",
   "id": "ef424e1e",
   "metadata": {},
   "source": [
    "## Randomized search"
   ]
  },
  {
   "cell_type": "markdown",
   "id": "8b78d61c",
   "metadata": {},
   "source": [
    "## Bayesian optimization"
   ]
  },
  {
   "cell_type": "markdown",
   "id": "e17fa515",
   "metadata": {},
   "source": [
    "More sophisticated hyperparameter optimization approaches, utilized by the hyperparameter tuning libraries `Optuna` and `Hyperopt`, utilized Bayesian optimization."
   ]
  }
 ],
 "metadata": {
  "kernelspec": {
   "display_name": "Python 3",
   "language": "python",
   "name": "python3"
  },
  "language_info": {
   "name": "python",
   "version": "3.10.12"
  }
 },
 "nbformat": 4,
 "nbformat_minor": 5
}
