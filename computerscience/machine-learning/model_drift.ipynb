{
 "cells": [
  {
   "cell_type": "markdown",
   "id": "9f6ef61e",
   "metadata": {},
   "source": [
    "# Model drift"
   ]
  },
  {
   "cell_type": "markdown",
   "id": "94f0f482",
   "metadata": {},
   "source": [
    "Covariate shift\n",
    "\n",
    "When P(X) changes but P(Y|X) remains the same. \n",
    "\n",
    "Label shift\n",
    "\n",
    "When P(Y) changes but P(X|Y) remains the same. \n",
    "\n",
    "Concept drift\n",
    "\n",
    "When P(Y|X) changes but P(X) remains the same."
"Data Shift - Covariate Shift"
"This refers to a change in P(X) with P(Y|X) remaining fixed i.e. the distribution of the input data/features changes but the conditional distribution over outputs/labels given this new distribution stays the same."
"Data Shift - Label Shift
This refers to a change in P(Y) with P(X|Y) remaining fixed i.e. the distribution over outputs/labels changes but the conditional distribution over the input data/features given this new distribution stays the same."
"Data Shift - Concept Drift
This refers to a change in P(YIX) with P(X) remaining fixed i.e. the conditional distribution over outputs/labels changes given the input/features but the distribution of input data/features stays the same. This can be interpreted as a change occurring in the relationship between the input data/features and the output labels."
   ]
  }
 ],
 "metadata": {
  "language_info": {
   "name": "python"
  }
 },
 "nbformat": 4,
 "nbformat_minor": 5
}
