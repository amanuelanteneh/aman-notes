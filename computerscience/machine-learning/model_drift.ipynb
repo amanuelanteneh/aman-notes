{
 "cells": [
  {
   "cell_type": "markdown",
   "id": "9f6ef61e",
   "metadata": {},
   "source": [
    "# Model drift"
   ]
  },
  {
   "cell_type": "markdown",
   "id": "94f0f482",
   "metadata": {},
   "source": [
    "Covariate shift\n",
    "\n",
    "When P(X) changes but P(Y|X) remains the same. \n",
    "\n",
    "Label shift\n",
    "\n",
    "When P(Y) changes but P(X|Y) remains the same. \n",
    "\n",
    "Concept drift\n",
    "\n",
    "When P(Y|X) changes but P(X) remains the same."
   ]
  }
 ],
 "metadata": {
  "language_info": {
   "name": "python"
  }
 },
 "nbformat": 4,
 "nbformat_minor": 5
}
