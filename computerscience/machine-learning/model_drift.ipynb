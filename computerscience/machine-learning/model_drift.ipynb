{
 "cells": [
  {
   "cell_type": "markdown",
   "id": "9f6ef61e",
   "metadata": {},
   "source": [
    "# Model drift"
   ]
  },
  {
   "cell_type": "markdown",
   "id": "c7ac4dc7",
   "metadata": {},
   "source": [
    "## Covariate Shift: $P(X)$"
   ]
  },
  {
   "cell_type": "markdown",
   "id": "6b556b77",
   "metadata": {},
   "source": [
    "This refers to a change in $P(X)$ with $P(Y|X)$ remaining fixed i.e. the distribution of the input data/features changes but the conditional distribution over outputs/labels given this new distribution stays the same."
   ]
  },
  {
   "cell_type": "markdown",
   "id": "aeb61543",
   "metadata": {},
   "source": [
    "## Label Shift: $P(Y)$"
   ]
  },
  {
   "cell_type": "markdown",
   "id": "5aff5ed9",
   "metadata": {},
   "source": [
    "This refers to a change in $P(Y)$ with $P(X|Y)$ remaining fixed i.e. the distribution over outputs/labels changes but the conditional distribution over the input data/features given this new distribution stays the same."
   ]
  },
  {
   "cell_type": "markdown",
   "id": "6161d3bb",
   "metadata": {},
   "source": [
    "## Concept Drift: $P(Y|X)$"
   ]
  },
  {
   "cell_type": "markdown",
   "id": "01f60037",
   "metadata": {},
   "source": [
    "This refers to a change in $P(Y|X)$ with $P(X)$ remaining fixed i.e. the conditional distribution over outputs/labels changes given the input/features but the distribution of input data/features stays the same. This can be interpreted as a change occurring in the relationship between the input data/features and the output labels."
   ]
  },
  {
   "cell_type": "markdown",
   "id": "e91477c1",
   "metadata": {},
   "source": [
    "## Drift Detection"
   ]
  }
 ],
 "metadata": {
  "language_info": {
   "name": "python"
  }
 },
 "nbformat": 4,
 "nbformat_minor": 5
}
