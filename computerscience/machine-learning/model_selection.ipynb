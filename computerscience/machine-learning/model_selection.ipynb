{
 "cells": [
  {
   "cell_type": "markdown",
   "metadata": {},
   "source": [
    "# Model selection & assessment"
   ]
  },
  {
   "cell_type": "markdown",
   "metadata": {},
   "source": [
    "Model selection is the process of selecting the proper level of flexibility for a model (tuning hyperparameters for example) {cite:p}`james2023statistical` or equivalently the process of estimating the performance of different models in order\n",
    "to choose the best one {cite:p}`hastie2009elements`. Model assessment is the process of estimating the prediction/generalization error of the _selected_ model on new/unseen data {cite:p}`hastie2009elements`."
   ]
  },
  {
   "cell_type": "markdown",
   "metadata": {},
   "source": [
    "## Training-Validation-Testing Split"
   ]
  },
  {
   "cell_type": "markdown",
   "metadata": {},
   "source": [
    "When one has ample amounts of training data the best option is usually to split the data into training, validation and testing sets. The training set is used to train/fit the model, the validation set is used to estimate the prediction/generalization error for model selection and hyperparameter tuning and the test set is treated as a hold out set which is used to evaluate the performance (generalization error) of the *selected* model."
   ]
  },
  {
   "cell_type": "markdown",
   "metadata": {},
   "source": [
    "## $k$-Fold Cross-Validation"
   ]
  }
 ],
 "metadata": {
  "language_info": {
   "name": "python"
  }
 },
 "nbformat": 4,
 "nbformat_minor": 2
}
