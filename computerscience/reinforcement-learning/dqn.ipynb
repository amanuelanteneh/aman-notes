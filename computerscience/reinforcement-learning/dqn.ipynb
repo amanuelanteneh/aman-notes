{
 "cells": [
  {
   "cell_type": "markdown",
   "metadata": {},
   "source": [
    "# Deep $Q$-learning"
   ]
  },
  {
   "cell_type": "code",
   "execution_count": 10,
   "metadata": {
    "tags": [
     "hide-input"
    ]
   },
   "outputs": [],
   "source": [
    "import random\n",
    "from collections import deque\n",
    "from copy import deepcopy\n",
    "\n",
    "import gymnasium as gym\n",
    "import torch\n",
    "from torch import nn, optim\n",
    "\n",
    "torch.manual_seed(75)  # set random seeds for reproducibility \n",
    "random.seed(75)  "
   ]
  },
  {
   "cell_type": "code",
   "execution_count": null,
   "metadata": {},
   "outputs": [],
   "source": [
    "class DeepQNetwork(nn.Module):\n",
    "    def __init__(\n",
    "        self,\n",
    "        input_dim: int,\n",
    "        hidden_dims: list[int],\n",
    "        output_dim: int,\n",
    "        activation_fn: nn.Module,\n",
    "    ):\n",
    "        super().__init__()\n",
    "        assert len(hidden_dims) > 0, \"Must have at least one hidden layer.\"\n",
    "\n",
    "        # add input layer\n",
    "        self.layers = nn.ModuleList(\n",
    "            [nn.Linear(in_features=input_dim, out_features=hidden_dims[0])]\n",
    "        )\n",
    "        self.layers.append(activation_fn())\n",
    "\n",
    "        # add hidden layers\n",
    "        for i in range(1, len(hidden_dims) - 1):\n",
    "            self.layers.append(\n",
    "                nn.Linear(in_features=hidden_dims[i - 1], out_features=hidden_dims[i])\n",
    "            )\n",
    "            self.layers.append(activation_fn())\n",
    "\n",
    "        # add output layer\n",
    "        self.layers.append(\n",
    "            nn.Linear(in_features=hidden_dims[-1], out_features=output_dim)\n",
    "        )\n",
    "\n",
    "    def forward(self, input: torch.Tensor) -> torch.Tensor:\n",
    "        for layer in self.layers:\n",
    "            input = layer(input)\n",
    "\n",
    "        pass\n",
    "\n",
    "\n",
    "class DQNTrainer:\n",
    "\n",
    "    def __init__(\n",
    "        self,\n",
    "        qnet: nn.Module,\n",
    "        num_actions: int,\n",
    "        buffer_size: int,\n",
    "        batch_size: int,\n",
    "        gamma: float,\n",
    "        epsilon_decay: float,\n",
    "        epsilon_min: float,\n",
    "        network_update_interval: int,\n",
    "        learning_rate: float\n",
    "    ):\n",
    "        # initialize replay buffer/memory\n",
    "        self.replay_buffer = deque([], maxlen=buffer_size)\n",
    "        self.batch_size = batch_size\n",
    "        self.qnet = qnet\n",
    "        self.target_qnet = deepcopy(qnet)\n",
    "        self.optimizer = optim.Adam(self.qnet.parameters(), lr=learning_rate)\n",
    "\n",
    "        self.gamma = gamma\n",
    "        self.epsilon = 1.0\n",
    "        self.epsilon_decay = epsilon_decay\n",
    "        self.epsilon_min = epsilon_min\n",
    "        self.num_actions = num_actions\n",
    "        self.network_update_interval = network_update_interval\n",
    "\n",
    "        self.loss_func = nn.MSELoss()\n",
    "\n",
    "    def select_action(self, state: torch.Tensor) -> int:\n",
    "        if self.epsilon > random.uniform(0, 1):\n",
    "            # select random action from [0,1,...,num_actions]\n",
    "            action = random.randrange(self.num_actions)\n",
    "        else:\n",
    "            Q_values = self.qnet(state)\n",
    "            action = torch.argmax(Q_values)\n",
    "\n",
    "        return action\n",
    "\n",
    "\n",
    "    def compute_loss(self) -> torch.Tensor:\n",
    "        pass\n",
    "\n",
    "        \n",
    "    def get_labels(self) -> torch.Tensor:\n",
    "        labels = []\n",
    "        for memory in self.replay_buffer:\n",
    "            state = memory[0]\n",
    "            action = memory[1]\n",
    "            reward = memory[2]\n",
    "            next_state = memory[3]\n",
    "            next_state_is_terminal = memory[4]\n",
    "            if next_state_is_terminal:\n",
    "                labels.append(reward)\n",
    "            else:\n",
    "                labels.append( reward + self.gamma* torch.max(self.target_qnet(next_state)).item() )\n",
    "\n",
    "        return torch.tensor(labels)\n",
    "\n",
    "    def train(self, num_episodes: int, max_timesteps: int):\n",
    "        env = gym.make(\"LunarLander-v3\", render_mode=None)\n",
    "\n",
    "        for m in range(num_episodes):\n",
    "            # reset env at start of episode and get starting state\n",
    "            state, _ = env.reset()\n",
    "\n",
    "            for t in range(max_timesteps):\n",
    "                action = self.select_action(state)\n",
    "                \n",
    "                new_state, reward, terminated, truncated, info = env.step(action)\n",
    "                self.replay_buffer.append( (state, action, reward, new_state, terminated) )\n",
    "\n",
    "\n",
    "                if len(self.replay_buffer) >= self.batch_size:\n",
    "                    # sample uniformly without replacement\n",
    "                    minibatch = random.sample(self.replay_buffer, self.batch_size)\n",
    "                    labels = self.get_labels() #torch.tensor( [  memory[2] if memory[4] else memory[2] + self.gamma*torch.max(self.qnet(state))  ] )\n",
    "\n",
    "                    self.optimizer.zero_grad()\n",
    "                    loss = self.compute_loss()\n",
    "                    loss.backward()\n",
    "                    self.optimizer.step()\n",
    "\n",
    "                    if t % self.network_update_interval == 0:\n",
    "                        qnet_state_dict = self.qnet.state_dict()\n",
    "                        self.target_qnet.load_state_dict(qnet_state_dict)  # \\hat{Q} = Q\n",
    "                \n",
    "                state = new_state"
   ]
  },
  {
   "cell_type": "code",
   "execution_count": null,
   "metadata": {},
   "outputs": [
    {
     "name": "stdout",
     "output_type": "stream",
     "text": [
      "DeepQNetwork(\n",
      "  (layers): ModuleList(\n",
      "    (0): Linear(in_features=200, out_features=100, bias=True)\n",
      "    (1): Tanh()\n",
      "    (2): Linear(in_features=100, out_features=50, bias=True)\n",
      "    (3): Tanh()\n",
      "    (4): Linear(in_features=50, out_features=25, bias=True)\n",
      "    (5): Tanh()\n",
      "    (6): Linear(in_features=25, out_features=10, bias=True)\n",
      "    (7): Tanh()\n",
      "    (8): Linear(in_features=5, out_features=2, bias=True)\n",
      "  )\n",
      ")\n"
     ]
    }
   ],
   "source": [
    "qnet = DeepQNetwork(200, [100, 50, 25, 10, 5], 2, nn.ReLU)\n"
   ]
  },
  {
   "cell_type": "code",
   "execution_count": 7,
   "metadata": {},
   "outputs": [],
   "source": [
    "env = gym.make(\"LunarLander-v3\", render_mode=None)"
   ]
  },
  {
   "cell_type": "code",
   "execution_count": 9,
   "metadata": {},
   "outputs": [
    {
     "data": {
      "text/plain": [
       "2"
      ]
     },
     "execution_count": 9,
     "metadata": {},
     "output_type": "execute_result"
    }
   ],
   "source": [
    "len(env.reset())"
   ]
  },
  {
   "cell_type": "code",
   "execution_count": 6,
   "metadata": {},
   "outputs": [
    {
     "name": "stdout",
     "output_type": "stream",
     "text": [
      "[-0.01465969  1.3903913  -0.73513913 -0.4691289   0.01479567  0.12495516\n",
      "  0.          0.        ] 0.02433743160219251 False False {}\n"
     ]
    }
   ],
   "source": [
    "env.reset()\n",
    "action = env.action_space.sample()\n",
    "\n",
    "# step (transition) through the environment with the action\n",
    "# receiving the next observation, reward and if the episode has terminated or truncated\n",
    "observation, reward, terminated, truncated, info = env.step(action)\n",
    "\n",
    "print(observation, reward, terminated, truncated, info)"
   ]
  }
 ],
 "metadata": {
  "kernelspec": {
   "display_name": "Python 3",
   "language": "python",
   "name": "python3"
  },
  "language_info": {
   "codemirror_mode": {
    "name": "ipython",
    "version": 3
   },
   "file_extension": ".py",
   "mimetype": "text/x-python",
   "name": "python",
   "nbconvert_exporter": "python",
   "pygments_lexer": "ipython3",
   "version": "3.10.12"
  }
 },
 "nbformat": 4,
 "nbformat_minor": 2
}
