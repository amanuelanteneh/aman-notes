{
 "cells": [
  {
   "cell_type": "markdown",
   "metadata": {},
   "source": [
    "# Lindblad master equation"
   ]
  },
  {
   "cell_type": "markdown",
   "metadata": {},
   "source": [
    "The Lindblad master equation is a stochastic differential equation that can be used to describe open quantum systems i.e. quantum systems that interact with their environment. It therefore can describe evolutions of quantum systems that are non-unitary unlike the Schrödinger and von Neumann equations for the unitary evolution of state vectors and density matrices respectively. Since the Lindbladian can describe non-unitary evolution, which in general produces mixed states, it is formalized in terms of the density matrix.\n",
    "\n",
    "The Lindblad master equation is {cite:p}`manzano2020short` (note in the reference they set $\\hbar=1$)\n",
    "\n",
    "\n",
    "$$\n",
    "\\begin{align}\n",
    "\\frac{d}{dt}\\rho(t) &= -\\frac{i}{\\hbar}[H(t), \\rho(t)] + \\sum_{k} \\Gamma_k \\left( L_k\\rho(t) L_k^\\dag - \\frac{1}{2}\\left\\{L_k^\\dag L_k, \\rho(t)\\right\\} \\right) \\\\\n",
    "&= -\\frac{i}{\\hbar}[H, \\rho] + \\sum_{k}  \\left( \\Gamma_kL_k\\rho L_k^\\dag - \\frac{\\Gamma_k}{2}L_k^\\dag L_k\\rho -\\frac{\\Gamma_k}{2}\\rho L_k^\\dag L_k \\right) \\qquad \\text{I omit the time dependence $\\rho(t)$ and $H(t)$ for clarity} \\\\\n",
    "&= -\\frac{i}{\\hbar}[H, \\rho] + \\sum_{k}  \\frac{1}{2}\\left( 2\\Gamma_kL_k\\rho L_k^\\dag - \\Gamma_k L_k^\\dag L_k\\rho -\\Gamma_k \\rho L_k^\\dag L_k \\right) \\\\\n",
    "&= -\\frac{i}{\\hbar}[H, \\rho] + \\sum_{k}  \\frac{1}{2}\\left( 2C_k\\rho C_k^\\dag - C_k^\\dag C_k\\rho -\\rho C_k^\\dag C_k \\right) \\qquad \\text{Let} \\quad C_k = \\sqrt{\\Gamma_k}L_k\n",
    "\\end{align}\n",
    "$$\n",
    "\n",
    "where $\\{A,B\\}=AB+BA$ is the anticommutator,  the $L_k$'s are known as _jump operators_ (the $C_k$'s are called collapse operators in the [`QuTiP` documentation](https://qutip.readthedocs.io/en/stable/guide/dynamics/dynamics-master.html)) which describe how the system couples to/interacts with the environment and $\\Gamma_k$ are the rates/strength of this interaction. When all $\\Gamma_k=0$, meaning no (non-unitary) interaction with the environment occurs, the equation reduces to\n",
    "\n",
    "$$\n",
    "\\frac{d}{dt}\\rho(t) = -\\frac{i}{\\hbar}[H(t), \\rho(t)]\n",
    "$$\n",
    "\n",
    "which is the von Neumann equation that describes the unitary evolution of the density matrix of the system. "
   ]
  },
  {
   "cell_type": "markdown",
   "metadata": {},
   "source": [
    "## Examples"
   ]
  },
  {
   "cell_type": "markdown",
   "metadata": {},
   "source": [
    "### Cavity dynamics"
   ]
  },
  {
   "cell_type": "markdown",
   "metadata": {},
   "source": [
    "A short example of using the Lindblad equation is given in {cite:p}`eaton2022measurement`."
   ]
  }
 ],
 "metadata": {
  "kernelspec": {
   "display_name": "Python 3",
   "language": "python",
   "name": "python3"
  },
  "language_info": {
   "name": "python",
   "version": "3.10.12"
  }
 },
 "nbformat": 4,
 "nbformat_minor": 2
}
