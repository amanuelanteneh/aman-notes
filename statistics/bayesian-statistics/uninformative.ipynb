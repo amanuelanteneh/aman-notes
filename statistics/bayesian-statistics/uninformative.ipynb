{
 "cells": [
  {
   "cell_type": "markdown",
   "id": "5e01e877",
   "metadata": {},
   "source": [
    "# Uninformative priors"
   ]
  },
  {
   "cell_type": "markdown",
   "id": "5a0c0759",
   "metadata": {},
   "source": [
    "## The illusion of uninformative priors"
   ]
  },
  {
   "cell_type": "markdown",
   "id": "551e0686",
   "metadata": {},
   "source": [
    "Ben Lambert in his amazing introductory text on Bayesian Statistics and accompanying video lectures discusses how priors which one may at first glance think are 'uninformative' can actually be quite informative when the problem parametrization is changed. "
   ]
  },
  {
   "cell_type": "markdown",
   "id": "b815b2fe",
   "metadata": {},
   "source": [
    "As an example consider the problem if estimating the probability of getting a head when flipping a particular coin and denote this probability as $\\theta$. Suppose we have no prior knowledge about what this probability might be for our specific coin so we believe it could be anything from a fair coin to a biased coin which only comes up as tails with every flip. Naturally we would then specify our prior as the uniform distribution $U(0,1)$, on the support $(0,1)$, which has the PDF $p(\\theta)=1$."
   ]
  },
  {
   "cell_type": "markdown",
   "id": "903aeda7",
   "metadata": {},
   "source": [
    "### Change of variables"
   ]
  },
  {
   "cell_type": "markdown",
   "id": "ad8f5c49",
   "metadata": {},
   "source": [
    "So we've specified that we have no prior knowledge about the value of $\\theta$. It stands to reason then that this would also mean we have no prior knowledge about the value $\\theta^2$ i.e. the probability of getting two heads when flipping the coin two times. But is this lack of knowledge _also_ described by placing an uniform prior on the value of $\\theta$? First let's define $\\phi=\\theta^2$."
   ]
  },
  {
   "cell_type": "markdown",
   "id": "20a88e3a",
   "metadata": {},
   "source": [
    "$$\n",
    "\\int_{0}^{1}p(\\theta) d\\theta = \\int_{0}^{1} p(\\phi) d\\phi = 1 \\quad \\textrm{Since both of these are PDFs they must integrate to 1.} \\\\\n",
    "$$"
   ]
  }
 ],
 "metadata": {
  "language_info": {
   "name": "python"
  }
 },
 "nbformat": 4,
 "nbformat_minor": 5
}
