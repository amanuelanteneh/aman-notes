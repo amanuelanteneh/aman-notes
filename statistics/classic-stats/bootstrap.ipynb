{
 "cells": [
  {
   "cell_type": "markdown",
   "metadata": {},
   "source": [
    "# Bootstrapping\n",
    "\n",
    "Bootstrapping, also sometimes referred to as the bootstrap, is ...\n",
    "Check out {cite:p}`devore2015probability` and {cite:p}`freedman2009statistical` and {cite:p}`james2023statistical`. We sample *with replacement* to create $B$ different sets of data"
   ]
  }
 ],
 "metadata": {
  "language_info": {
   "name": "python"
  }
 },
 "nbformat": 4,
 "nbformat_minor": 2
}
